{
 "cells": [
  {
   "cell_type": "code",
   "execution_count": 1,
   "metadata": {},
   "outputs": [],
   "source": [
    "# Copyright (c) 2024 Microsoft Corporation.\n",
    "# Licensed under the MIT License."
   ]
  },
  {
   "cell_type": "code",
   "execution_count": 2,
   "metadata": {},
   "outputs": [],
   "source": [
    "# %%capture\n",
    "# !pip install pandas tiktoken graphrag"
   ]
  },
  {
   "cell_type": "code",
   "execution_count": 3,
   "metadata": {},
   "outputs": [
    {
     "data": {
      "text/plain": [
       "True"
      ]
     },
     "execution_count": 3,
     "metadata": {},
     "output_type": "execute_result"
    }
   ],
   "source": [
    "# Load environment variables\n",
    "from dotenv import load_dotenv\n",
    "load_dotenv()"
   ]
  },
  {
   "cell_type": "code",
   "execution_count": 4,
   "metadata": {},
   "outputs": [],
   "source": [
    "import os\n",
    "\n",
    "import pandas as pd\n",
    "import tiktoken\n",
    "\n",
    "from graphrag.query.indexer_adapters import read_indexer_entities, read_indexer_reports\n",
    "from graphrag.query.llm.oai.chat_openai import ChatOpenAI\n",
    "from graphrag.query.llm.oai.typing import OpenaiApiType\n",
    "from graphrag.query.structured_search.global_search.community_context import (\n",
    "    GlobalCommunityContext,\n",
    ")\n",
    "from graphrag.query.structured_search.global_search.search import GlobalSearch"
   ]
  },
  {
   "cell_type": "markdown",
   "metadata": {},
   "source": [
    "## Global Search example\n",
    "\n",
    "Global search method generates answers by searching over all AI-generated community reports in a map-reduce fashion. This is a resource-intensive method, but often gives good responses for questions that require an understanding of the dataset as a whole (e.g. What are the most significant values of the herbs mentioned in this notebook?)."
   ]
  },
  {
   "cell_type": "markdown",
   "metadata": {},
   "source": [
    "### LLM setup"
   ]
  },
  {
   "cell_type": "code",
   "execution_count": 3,
   "metadata": {},
   "outputs": [],
   "source": [
    "api_key = os.environ[\"GRAPHRAG_API_KEY\"]\n",
    "llm_model = os.environ[\"GRAPHRAG_LLM_MODEL\"]\n",
    "\n",
    "llm = ChatOpenAI(\n",
    "    api_key=api_key,\n",
    "    model=llm_model,\n",
    "    api_type=OpenaiApiType.OpenAI,  # OpenaiApiType.OpenAI or OpenaiApiType.AzureOpenAI\n",
    "    max_retries=20,\n",
    ")\n",
    "\n",
    "token_encoder = tiktoken.get_encoding(\"cl100k_base\")"
   ]
  },
  {
   "cell_type": "markdown",
   "metadata": {},
   "source": [
    "### Load community reports as context for global search\n",
    "\n",
    "- Load all community reports in the `create_final_community_reports` table from the ire-indexing engine, to be used as context data for global search.\n",
    "- Load entities from the `create_final_nodes` and `create_final_entities` tables from the ire-indexing engine, to be used for calculating community weights for context ranking. Note that this is optional (if no entities are provided, we will not calculate community weights and only use the `rank` attribute in the community reports table for context ranking)"
   ]
  },
  {
   "cell_type": "code",
   "execution_count": 4,
   "metadata": {},
   "outputs": [],
   "source": [
    "# parquet files generated from indexing pipeline\n",
    "INPUT_DIR = \"output/20240716-183418/artifacts/\"\n",
    "COMMUNITY_REPORT_TABLE = \"create_final_community_reports\"\n",
    "ENTITY_TABLE = \"create_final_nodes\"\n",
    "ENTITY_EMBEDDING_TABLE = \"create_final_entities\"\n",
    "# community level in the Leiden community hierarchy from which we will load the community reports\n",
    "# higher value means we use reports from more fine-grained communities (at the cost of higher computation cost)\n",
    "COMMUNITY_LEVEL = 2"
   ]
  },
  {
   "cell_type": "code",
   "execution_count": 5,
   "metadata": {},
   "outputs": [
    {
     "name": "stdout",
     "output_type": "stream",
     "text": [
      "Report records: 46\n"
     ]
    },
    {
     "data": {
      "text/html": [
       "<div>\n",
       "<style scoped>\n",
       "    .dataframe tbody tr th:only-of-type {\n",
       "        vertical-align: middle;\n",
       "    }\n",
       "\n",
       "    .dataframe tbody tr th {\n",
       "        vertical-align: top;\n",
       "    }\n",
       "\n",
       "    .dataframe thead th {\n",
       "        text-align: right;\n",
       "    }\n",
       "</style>\n",
       "<table border=\"1\" class=\"dataframe\">\n",
       "  <thead>\n",
       "    <tr style=\"text-align: right;\">\n",
       "      <th></th>\n",
       "      <th>community</th>\n",
       "      <th>full_content</th>\n",
       "      <th>level</th>\n",
       "      <th>rank</th>\n",
       "      <th>title</th>\n",
       "      <th>rank_explanation</th>\n",
       "      <th>summary</th>\n",
       "      <th>findings</th>\n",
       "      <th>full_content_json</th>\n",
       "      <th>id</th>\n",
       "    </tr>\n",
       "  </thead>\n",
       "  <tbody>\n",
       "    <tr>\n",
       "      <th>0</th>\n",
       "      <td>44</td>\n",
       "      <td># Devi and her Relationships\\n\\nThe community ...</td>\n",
       "      <td>2</td>\n",
       "      <td>8.5</td>\n",
       "      <td>Devi and her Relationships</td>\n",
       "      <td>The impact severity rating is high due to the ...</td>\n",
       "      <td>The community revolves around Devi, a central ...</td>\n",
       "      <td>[{'explanation': 'Devi shares a close mother-d...</td>\n",
       "      <td>{\\n    \"title\": \"Devi and her Relationships\",\\...</td>\n",
       "      <td>44715762-c11e-43c9-8c26-3b5f969214b3</td>\n",
       "    </tr>\n",
       "    <tr>\n",
       "      <th>1</th>\n",
       "      <td>45</td>\n",
       "      <td># Vaishali and Devi\\n\\nThe community revolves ...</td>\n",
       "      <td>2</td>\n",
       "      <td>7.5</td>\n",
       "      <td>Vaishali and Devi</td>\n",
       "      <td>The impact severity rating is high due to the ...</td>\n",
       "      <td>The community revolves around Vaishali and Dev...</td>\n",
       "      <td>[{'explanation': 'Vaishali believes Devi to be...</td>\n",
       "      <td>{\\n    \"title\": \"Vaishali and Devi\",\\n    \"sum...</td>\n",
       "      <td>d66f8638-d285-4673-b0c2-86b408941209</td>\n",
       "    </tr>\n",
       "    <tr>\n",
       "      <th>2</th>\n",
       "      <td>10</td>\n",
       "      <td># Devi and her Key Relationships\\n\\nThe commun...</td>\n",
       "      <td>1</td>\n",
       "      <td>8.5</td>\n",
       "      <td>Devi and her Key Relationships</td>\n",
       "      <td>The impact severity rating is high due to the ...</td>\n",
       "      <td>The community revolves around Devi, a central ...</td>\n",
       "      <td>[{'explanation': 'Devi shares a close mother-d...</td>\n",
       "      <td>{\\n    \"title\": \"Devi and her Key Relationship...</td>\n",
       "      <td>f464ff53-70eb-42b3-96f9-9718aaa591be</td>\n",
       "    </tr>\n",
       "    <tr>\n",
       "      <th>3</th>\n",
       "      <td>11</td>\n",
       "      <td># RAM and Devi's Relationships\\n\\nThe communit...</td>\n",
       "      <td>1</td>\n",
       "      <td>8.5</td>\n",
       "      <td>RAM and Devi's Relationships</td>\n",
       "      <td>The impact severity rating is high due to the ...</td>\n",
       "      <td>The community revolves around the relationship...</td>\n",
       "      <td>[{'explanation': 'RAM and Devi share a close a...</td>\n",
       "      <td>{\\n    \"title\": \"RAM and Devi's Relationships\"...</td>\n",
       "      <td>6ad5bc84-4702-46ec-9f3c-3bee015bc0ec</td>\n",
       "    </tr>\n",
       "    <tr>\n",
       "      <th>4</th>\n",
       "      <td>12</td>\n",
       "      <td># Characters and Locations in the Story\\n\\nThe...</td>\n",
       "      <td>1</td>\n",
       "      <td>7.5</td>\n",
       "      <td>Characters and Locations in the Story</td>\n",
       "      <td>The impact severity rating is high due to the ...</td>\n",
       "      <td>The community revolves around key characters s...</td>\n",
       "      <td>[{'explanation': 'Rackham plays a supportive r...</td>\n",
       "      <td>{\\n    \"title\": \"Characters and Locations in t...</td>\n",
       "      <td>28912ca0-a989-4950-bf36-b29ad519436f</td>\n",
       "    </tr>\n",
       "  </tbody>\n",
       "</table>\n",
       "</div>"
      ],
      "text/plain": [
       "  community                                       full_content  level  rank  \\\n",
       "0        44  # Devi and her Relationships\\n\\nThe community ...      2   8.5   \n",
       "1        45  # Vaishali and Devi\\n\\nThe community revolves ...      2   7.5   \n",
       "2        10  # Devi and her Key Relationships\\n\\nThe commun...      1   8.5   \n",
       "3        11  # RAM and Devi's Relationships\\n\\nThe communit...      1   8.5   \n",
       "4        12  # Characters and Locations in the Story\\n\\nThe...      1   7.5   \n",
       "\n",
       "                                   title  \\\n",
       "0             Devi and her Relationships   \n",
       "1                      Vaishali and Devi   \n",
       "2         Devi and her Key Relationships   \n",
       "3           RAM and Devi's Relationships   \n",
       "4  Characters and Locations in the Story   \n",
       "\n",
       "                                    rank_explanation  \\\n",
       "0  The impact severity rating is high due to the ...   \n",
       "1  The impact severity rating is high due to the ...   \n",
       "2  The impact severity rating is high due to the ...   \n",
       "3  The impact severity rating is high due to the ...   \n",
       "4  The impact severity rating is high due to the ...   \n",
       "\n",
       "                                             summary  \\\n",
       "0  The community revolves around Devi, a central ...   \n",
       "1  The community revolves around Vaishali and Dev...   \n",
       "2  The community revolves around Devi, a central ...   \n",
       "3  The community revolves around the relationship...   \n",
       "4  The community revolves around key characters s...   \n",
       "\n",
       "                                            findings  \\\n",
       "0  [{'explanation': 'Devi shares a close mother-d...   \n",
       "1  [{'explanation': 'Vaishali believes Devi to be...   \n",
       "2  [{'explanation': 'Devi shares a close mother-d...   \n",
       "3  [{'explanation': 'RAM and Devi share a close a...   \n",
       "4  [{'explanation': 'Rackham plays a supportive r...   \n",
       "\n",
       "                                   full_content_json  \\\n",
       "0  {\\n    \"title\": \"Devi and her Relationships\",\\...   \n",
       "1  {\\n    \"title\": \"Vaishali and Devi\",\\n    \"sum...   \n",
       "2  {\\n    \"title\": \"Devi and her Key Relationship...   \n",
       "3  {\\n    \"title\": \"RAM and Devi's Relationships\"...   \n",
       "4  {\\n    \"title\": \"Characters and Locations in t...   \n",
       "\n",
       "                                     id  \n",
       "0  44715762-c11e-43c9-8c26-3b5f969214b3  \n",
       "1  d66f8638-d285-4673-b0c2-86b408941209  \n",
       "2  f464ff53-70eb-42b3-96f9-9718aaa591be  \n",
       "3  6ad5bc84-4702-46ec-9f3c-3bee015bc0ec  \n",
       "4  28912ca0-a989-4950-bf36-b29ad519436f  "
      ]
     },
     "execution_count": 5,
     "metadata": {},
     "output_type": "execute_result"
    }
   ],
   "source": [
    "entity_df = pd.read_parquet(f\"{INPUT_DIR}/{ENTITY_TABLE}.parquet\")\n",
    "report_df = pd.read_parquet(f\"{INPUT_DIR}/{COMMUNITY_REPORT_TABLE}.parquet\")\n",
    "entity_embedding_df = pd.read_parquet(f\"{INPUT_DIR}/{ENTITY_EMBEDDING_TABLE}.parquet\")\n",
    "\n",
    "reports = read_indexer_reports(report_df, entity_df, COMMUNITY_LEVEL)\n",
    "entities = read_indexer_entities(entity_df, entity_embedding_df, COMMUNITY_LEVEL)\n",
    "print(f\"Report records: {len(report_df)}\")\n",
    "report_df.head()"
   ]
  },
  {
   "cell_type": "markdown",
   "metadata": {},
   "source": [
    "#### Build global context based on community reports"
   ]
  },
  {
   "cell_type": "code",
   "execution_count": 6,
   "metadata": {},
   "outputs": [],
   "source": [
    "context_builder = GlobalCommunityContext(\n",
    "    community_reports=reports,\n",
    "    entities=entities,  # default to None if you don't want to use community weights for ranking\n",
    "    token_encoder=token_encoder,\n",
    ")"
   ]
  },
  {
   "cell_type": "markdown",
   "metadata": {},
   "source": [
    "#### Perform global search"
   ]
  },
  {
   "cell_type": "code",
   "execution_count": 7,
   "metadata": {},
   "outputs": [],
   "source": [
    "context_builder_params = {\n",
    "    \"use_community_summary\": False,  # False means using full community reports. True means using community short summaries.\n",
    "    \"shuffle_data\": True,\n",
    "    \"include_community_rank\": True,\n",
    "    \"min_community_rank\": 0,\n",
    "    \"community_rank_name\": \"rank\",\n",
    "    \"include_community_weight\": True,\n",
    "    \"community_weight_name\": \"occurrence weight\",\n",
    "    \"normalize_community_weight\": True,\n",
    "    \"max_tokens\": 12_000,  # change this based on the token limit you have on your model (if you are using a model with 8k limit, a good setting could be 5000)\n",
    "    \"context_name\": \"Reports\",\n",
    "}\n",
    "\n",
    "map_llm_params = {\n",
    "    \"max_tokens\": 1000,\n",
    "    \"temperature\": 0.0,\n",
    "    \"response_format\": {\"type\": \"json_object\"},\n",
    "}\n",
    "\n",
    "reduce_llm_params = {\n",
    "    \"max_tokens\": 2000,  # change this based on the token limit you have on your model (if you are using a model with 8k limit, a good setting could be 1000-1500)\n",
    "    \"temperature\": 0.0,\n",
    "}"
   ]
  },
  {
   "cell_type": "code",
   "execution_count": 8,
   "metadata": {},
   "outputs": [],
   "source": [
    "search_engine = GlobalSearch(\n",
    "    llm=llm,\n",
    "    context_builder=context_builder,\n",
    "    token_encoder=token_encoder,\n",
    "    max_data_tokens=12_000,  # change this based on the token limit you have on your model (if you are using a model with 8k limit, a good setting could be 5000)\n",
    "    map_llm_params=map_llm_params,\n",
    "    reduce_llm_params=reduce_llm_params,\n",
    "    allow_general_knowledge=False,  # set this to True will add instruction to encourage the LLM to incorporate general knowledge in the response, which may increase hallucinations, but could be useful in some use cases.\n",
    "    json_mode=True,  # set this to False if your LLM model does not support JSON mode.\n",
    "    context_builder_params=context_builder_params,\n",
    "    concurrent_coroutines=32,\n",
    "    response_type=\"multiple paragraphs\",  # free form text describing the response type and format, can be anything, e.g. prioritized list, single paragraph, multiple paragraphs, multiple-page report\n",
    ")"
   ]
  },
  {
   "cell_type": "code",
   "execution_count": 17,
   "metadata": {},
   "outputs": [
    {
     "data": {
      "text/html": [
       "<p style='width: 70ch;'>### Key Characters and Their Journeys\n",
       "\n",
       "#### Sita:\n",
       "1. **Background and Context:** Sita's central role in the community is characterized by her control over fire and earth, symbolizing her abilities and limitations. She shares emotional bonds with Devi and Meena, drawing inspiration from Devi and invoking memories and emotions in Sita. Sita's relationships with characters like Rama, Hanuman, and Akhtar Chacha involve significant events, mentorship, and guidance.\n",
       "\n",
       "2. **Key Events:**\n",
       "   - Sita's Encounter with Rama: When Sita first meets Rama, their connection sparks a series of events that test their loyalty and love for each other.\n",
       "   - Hanuman's Guidance: Hanuman's mentorship and guidance to Sita during challenging times shape her understanding of devotion and sacrifice.\n",
       "   - Akhtar Chacha's Influence: Akhtar Chacha's presence in Sita's life introduces complexities that challenge her beliefs and decisions.\n",
       "   - Emotional Conflict with Devi: Sita's emotional conflicts with Devi reveal layers of their relationship and the impact of their bond on the community.\n",
       "   - Loyalty Dilemmas: Sita's loyalty dilemmas, especially between Rama and other characters, showcase her internal struggles and growth.\n",
       "\n",
       "#### Devi:\n",
       "1. **Background and Context:** Devi's journey is shaped by her relationships with various entities such as Sunaina, Sita, Rama, Hanuman, Meena, Urmila, Ram, and Agni Devata. Devi shares close bonds, playful interactions, conflicts, emotional support, and guidance with these characters, influencing her character development and decisions.\n",
       "\n",
       "2. **Key Events:**\n",
       "   - Sunaina's Guidance: Sunaina's guidance and support play a crucial role in Devi's development and understanding of her powers.\n",
       "   - Conflict with Hanuman: Devi's conflicts with Hanuman challenge her perceptions and beliefs, leading to personal growth.\n",
       "   - Emotional Support from Sita: Sita's emotional support during difficult times shapes Devi's resilience and determination.\n",
       "   - Meena's Influence: Meena's influence on Devi's decisions and actions highlights the impact of friendship on her journey.\n",
       "   - Interaction with Rama: Devi's interactions with Rama reveal aspects of her character and the complexities of their relationship.\n",
       "\n",
       "#### Sunaina:\n",
       "1. **Background and Context:** Sunaina's multifaceted character is depicted with unique abilities, strong connections to various entities, and a central role in the narrative. Her nurturing and protective nature towards Devi, interactions with The Sun, and concerns about The Enemy showcase her complexity and significance in the story.\n",
       "\n",
       "2. **Key Events:**\n",
       "   - Nurturing Devi: Sunaina's nurturing of Devi reflects her maternal instincts and the depth of their relationship.\n",
       "   - Interaction with The Sun: Sunaina's interactions with The Sun reveal mystical elements and her connection to higher powers.\n",
       "   - Concerns about The Enemy: Sunaina's concerns about The Enemy drive pivotal decisions and actions that impact the community.\n",
       "   - Relationships with Beorhten Empire: Sunaina's interactions with the Beorhten Empire shed light on political dynamics and potential conflicts.\n",
       "   - Communication Efforts: Sunaina's role in communication efforts highlights her strategic importance in times of crisis.\n",
       "\n",
       "This summary provides insights into the key characters, their backgrounds, and the events that shape their journeys within the narrative. Each character's interactions and experiences contribute to the intricate tapestry of relationships and conflicts in the community, offering a rich and dynamic storyline.</p>"
      ],
      "text/plain": [
       "<IPython.core.display.HTML object>"
      ]
     },
     "metadata": {},
     "output_type": "display_data"
    }
   ],
   "source": [
    "result = await search_engine.asearch(\n",
    "    \"\"\"\n",
    "    List the key characters in this story together with their individual journeys. For each character, list the following: \n",
    "    (1) Character's background and context \n",
    "    (2) 3 - 5 key events that shape the character with detailed descriptsion of each event\n",
    "    \"\"\"\n",
    ")\n",
    "\n",
    "response = result.response\n",
    "\n",
    "from IPython.display import display, HTML\n",
    "display(HTML(f\"<p style='width: 70ch;'>{response}</p>\"))"
   ]
  },
  {
   "cell_type": "code",
   "execution_count": 12,
   "metadata": {},
   "outputs": [
    {
     "name": "stdout",
     "output_type": "stream",
     "text": [
      "### Story Outline:\n",
      "\n",
      "In this narrative, several key characters play pivotal roles, each contributing uniquely to the intricate tapestry of events and relationships within the community. These characters are central to the story's development and are essential in shaping the dynamics and outcomes of significant events.\n",
      "\n",
      "#### Devi:\n",
      "Devi stands as a central character with intricate relationships with entities like Sunaina, Sita, Rama, and others. Her emotional context involves love, conflict, trust, and vulnerability. Devi's beliefs revolve around loyalty, destiny, and the power of relationships. She seeks to fulfill her destiny and protect her loved ones. Devi's needs include guidance, acceptance, and understanding. Key events shaping Devi include her interactions with various characters like Sunaina, Sita, Rama, Hanuman, Meena, Urmila, Ram, and Agni Devata, culminating in her transformation into the fire lord with the assistance of Agni Devata.\n",
      "\n",
      "#### Sita:\n",
      "Sita, another central character, is known for her control over fire and earth, symbolizing her abilities and limitations. She shares emotional bonds with Devi and Meena, showcasing complexity, conflicting interests, and familial connections. Sita's relationships with characters like Rama, Hanuman, and Akhtar Chacha involve significant events, mentorship, and guidance. Symbolic connections with entities like Earth, The Crown, and Veresht highlight her vulnerability and her role as a powerful figure in the community.\n",
      "\n",
      "#### Renuka:\n",
      "Renuka emerges as a multifaceted entity associated with mythical powers, magical abilities, and significant events involving characters like Rama, Parashurama, and Shakti. Her emotional context includes protection, power, and transformation. Renuka's beliefs center around her role as a mother, protector, and mystical figure. She aims to safeguard her loved ones and fulfill her destiny, needing recognition, respect, and understanding. Key events shaping Renuka include her relationships with Devi, Rama, King Kartavir, and Reshi Jamadagni, her mythical powers and abilities, and her involvement in crucial events like the snake incident with Rama and her fiery demise tied to the Beorhten machines.\n",
      "\n",
      "#### King Kartavir:\n",
      "King Kartavir, the Last King of Kosala, plays a pivotal role in the community, driven by emotions of power, responsibility, and legacy. His beliefs revolve around governance, tradition, and alliances. King Kartavir seeks to secure his kingdom and maintain stability, requiring loyalty, strategic alliances, and protection. Key events shaping King Kartavir include his trade for Beorhten machines, interactions with Renuka, Reshi Jamadagni, and Lord Grantham, and the geographical importance of Kosala along with events related to the Alliance of Twenty One.\n",
      "\n",
      "#### Gargi Vachaknavi:\n",
      "Gargi Vachaknavi, a central figure in the community, is associated with the Mistresses of the House, witches, and significant events at the gurukul near the river Padma. Her emotional context includes intelligence, strategy, and leadership. Gargi's beliefs center around outwitting others and protecting her interests. She aims to maintain control and influence, needing recognition, power, and security. Key events shaping Gargi include her interactions with Yajnavalkya, the witches, and the gurukul, her ability to outwit Yajnavalkya at court, and her connections to the Mistresses of the House and the events at the gurukul.\n",
      "\n",
      "This outline provides a comprehensive view of the key characters, their emotional complexities, beliefs, wants, needs, and the pivotal events that shape their journeys within the narrative. Each character contributes uniquely to the story's development, adding layers of depth and intrigue to the community's dynamics.\n"
     ]
    }
   ],
   "source": [
    "print(response)"
   ]
  },
  {
   "cell_type": "code",
   "execution_count": 19,
   "metadata": {},
   "outputs": [
    {
     "data": {
      "text/html": [
       "<div>\n",
       "<style scoped>\n",
       "    .dataframe tbody tr th:only-of-type {\n",
       "        vertical-align: middle;\n",
       "    }\n",
       "\n",
       "    .dataframe tbody tr th {\n",
       "        vertical-align: top;\n",
       "    }\n",
       "\n",
       "    .dataframe thead th {\n",
       "        text-align: right;\n",
       "    }\n",
       "</style>\n",
       "<table border=\"1\" class=\"dataframe\">\n",
       "  <thead>\n",
       "    <tr style=\"text-align: right;\">\n",
       "      <th></th>\n",
       "      <th>id</th>\n",
       "      <th>title</th>\n",
       "      <th>occurrence weight</th>\n",
       "      <th>content</th>\n",
       "      <th>rank</th>\n",
       "    </tr>\n",
       "  </thead>\n",
       "  <tbody>\n",
       "    <tr>\n",
       "      <th>0</th>\n",
       "      <td>118</td>\n",
       "      <td>AI and Technology Ecosystem</td>\n",
       "      <td>0.154294</td>\n",
       "      <td># AI and Technology Ecosystem\\n\\nThe community...</td>\n",
       "      <td>8.5</td>\n",
       "    </tr>\n",
       "    <tr>\n",
       "      <th>1</th>\n",
       "      <td>99</td>\n",
       "      <td>Apple and AI Ecosystem</td>\n",
       "      <td>0.144105</td>\n",
       "      <td># Apple and AI Ecosystem\\n\\nThe community revo...</td>\n",
       "      <td>8.5</td>\n",
       "    </tr>\n",
       "    <tr>\n",
       "      <th>2</th>\n",
       "      <td>115</td>\n",
       "      <td>Nikhil and AI Ecosystem</td>\n",
       "      <td>0.101892</td>\n",
       "      <td># Nikhil and AI Ecosystem\\n\\nThe community rev...</td>\n",
       "      <td>8.5</td>\n",
       "    </tr>\n",
       "    <tr>\n",
       "      <th>3</th>\n",
       "      <td>39</td>\n",
       "      <td>Adobe, Microsoft Azure, and AWS Community</td>\n",
       "      <td>0.040757</td>\n",
       "      <td># Adobe, Microsoft Azure, and AWS Community\\n\\...</td>\n",
       "      <td>8.5</td>\n",
       "    </tr>\n",
       "    <tr>\n",
       "      <th>4</th>\n",
       "      <td>52</td>\n",
       "      <td>META and Mark Zuckerberg</td>\n",
       "      <td>0.034934</td>\n",
       "      <td># META and Mark Zuckerberg\\n\\nThe community re...</td>\n",
       "      <td>8.5</td>\n",
       "    </tr>\n",
       "    <tr>\n",
       "      <th>...</th>\n",
       "      <td>...</td>\n",
       "      <td>...</td>\n",
       "      <td>...</td>\n",
       "      <td>...</td>\n",
       "      <td>...</td>\n",
       "    </tr>\n",
       "    <tr>\n",
       "      <th>101</th>\n",
       "      <td>10</td>\n",
       "      <td>Human Intelligence and New Situations</td>\n",
       "      <td>0.001456</td>\n",
       "      <td># Human Intelligence and New Situations\\n\\nThe...</td>\n",
       "      <td>7.5</td>\n",
       "    </tr>\n",
       "    <tr>\n",
       "      <th>102</th>\n",
       "      <td>103</td>\n",
       "      <td>Sam Altman and John Ivy in the AI Industry</td>\n",
       "      <td>0.005822</td>\n",
       "      <td># Sam Altman and John Ivy in the AI Industry\\n...</td>\n",
       "      <td>7.5</td>\n",
       "    </tr>\n",
       "    <tr>\n",
       "      <th>103</th>\n",
       "      <td>17</td>\n",
       "      <td>AI Task and Email Classification</td>\n",
       "      <td>0.004367</td>\n",
       "      <td># AI Task and Email Classification\\n\\nThe comm...</td>\n",
       "      <td>7.5</td>\n",
       "    </tr>\n",
       "    <tr>\n",
       "      <th>104</th>\n",
       "      <td>64</td>\n",
       "      <td>Google Colab and Cloud Platforms</td>\n",
       "      <td>0.002911</td>\n",
       "      <td># Google Colab and Cloud Platforms\\n\\nThe comm...</td>\n",
       "      <td>7.5</td>\n",
       "    </tr>\n",
       "    <tr>\n",
       "      <th>105</th>\n",
       "      <td>14</td>\n",
       "      <td>Fire and Human Evolution</td>\n",
       "      <td>0.002911</td>\n",
       "      <td># Fire and Human Evolution\\n\\nThe community re...</td>\n",
       "      <td>7.5</td>\n",
       "    </tr>\n",
       "  </tbody>\n",
       "</table>\n",
       "<p>106 rows × 5 columns</p>\n",
       "</div>"
      ],
      "text/plain": [
       "      id                                       title  occurrence weight  \\\n",
       "0    118                 AI and Technology Ecosystem           0.154294   \n",
       "1     99                      Apple and AI Ecosystem           0.144105   \n",
       "2    115                     Nikhil and AI Ecosystem           0.101892   \n",
       "3     39   Adobe, Microsoft Azure, and AWS Community           0.040757   \n",
       "4     52                    META and Mark Zuckerberg           0.034934   \n",
       "..   ...                                         ...                ...   \n",
       "101   10       Human Intelligence and New Situations           0.001456   \n",
       "102  103  Sam Altman and John Ivy in the AI Industry           0.005822   \n",
       "103   17            AI Task and Email Classification           0.004367   \n",
       "104   64            Google Colab and Cloud Platforms           0.002911   \n",
       "105   14                    Fire and Human Evolution           0.002911   \n",
       "\n",
       "                                               content  rank  \n",
       "0    # AI and Technology Ecosystem\\n\\nThe community...   8.5  \n",
       "1    # Apple and AI Ecosystem\\n\\nThe community revo...   8.5  \n",
       "2    # Nikhil and AI Ecosystem\\n\\nThe community rev...   8.5  \n",
       "3    # Adobe, Microsoft Azure, and AWS Community\\n\\...   8.5  \n",
       "4    # META and Mark Zuckerberg\\n\\nThe community re...   8.5  \n",
       "..                                                 ...   ...  \n",
       "101  # Human Intelligence and New Situations\\n\\nThe...   7.5  \n",
       "102  # Sam Altman and John Ivy in the AI Industry\\n...   7.5  \n",
       "103  # AI Task and Email Classification\\n\\nThe comm...   7.5  \n",
       "104  # Google Colab and Cloud Platforms\\n\\nThe comm...   7.5  \n",
       "105  # Fire and Human Evolution\\n\\nThe community re...   7.5  \n",
       "\n",
       "[106 rows x 5 columns]"
      ]
     },
     "execution_count": 19,
     "metadata": {},
     "output_type": "execute_result"
    }
   ],
   "source": [
    "# inspect the data used to build the context for the LLM responses\n",
    "result.context_data[\"reports\"]"
   ]
  },
  {
   "cell_type": "code",
   "execution_count": 20,
   "metadata": {},
   "outputs": [
    {
     "name": "stdout",
     "output_type": "stream",
     "text": [
      "LLM calls: 6. LLM tokens: 56271\n"
     ]
    }
   ],
   "source": [
    "# inspect number of LLM calls and tokens\n",
    "print(f\"LLM calls: {result.llm_calls}. LLM tokens: {result.prompt_tokens}\")"
   ]
  },
  {
   "cell_type": "code",
   "execution_count": null,
   "metadata": {},
   "outputs": [],
   "source": []
  },
  {
   "cell_type": "markdown",
   "metadata": {},
   "source": [
    "# Graph viz\n"
   ]
  },
  {
   "cell_type": "markdown",
   "metadata": {},
   "source": [
    "## yfiles_jupyter_graphs\n",
    "\n",
    "Source: https://github.com/microsoft/graphrag/issues/418"
   ]
  },
  {
   "cell_type": "code",
   "execution_count": 1,
   "metadata": {},
   "outputs": [],
   "source": [
    "%%capture\n",
    "!pip install yfiles_jupyter_graphs pandas notebook ipywidgets"
   ]
  },
  {
   "cell_type": "code",
   "execution_count": 1,
   "metadata": {},
   "outputs": [
    {
     "data": {
      "application/vnd.jupyter.widget-view+json": {
       "model_id": "e67fcde1c4ba4c13a1b139309aaf7d28",
       "version_major": 2,
       "version_minor": 0
      },
      "text/plain": [
       "GraphWidget(layout=Layout(height='800px', width='100%'))"
      ]
     },
     "metadata": {},
     "output_type": "display_data"
    }
   ],
   "source": [
    "\"\"\"\n",
    "Uses yfiles-jupyter-graphs to visualize the dataframes.\n",
    "\n",
    "The dataframes are converted into supported nodes and relationships lists and then passed to yfiles-jupyter-graphs.\n",
    "Additionally, some values are mapped to visualization properties.\n",
    "\"\"\"\n",
    "\n",
    "import pandas as pd\n",
    "\n",
    "def show_graph(entity_df, relationship_df):\n",
    "    from yfiles_jupyter_graphs import GraphWidget\n",
    "\n",
    "    # converts the entities dataframe to a list of dicts for yfiles-jupyter-graphs\n",
    "    def convert_entities_to_dicts(df):\n",
    "        nodes_dict = {}\n",
    "        for index, row in df.iterrows():\n",
    "            # Create a dictionary for each row and collect unique nodes\n",
    "            node_id = row[\"title\"]\n",
    "            if not node_id in nodes_dict:\n",
    "                nodes_dict[node_id] = {\"id\": node_id, \"properties\": {col: value for col, value in zip(row.index, row.values)}}\n",
    "        return list(nodes_dict.values())\n",
    "\n",
    "    # converts the relationships dataframe to a list of dicts for yfiles-jupyter-graphs\n",
    "    def convert_relationships_to_dicts(df):\n",
    "        relationships = []\n",
    "        for index, row in df.iterrows():\n",
    "            # Create a dictionary for each row\n",
    "            relationships.append({\"start\": row['source'], \"end\": row['target'], \"properties\": {col: value for col, value in zip(row.index, row.values)}})\n",
    "        return relationships\n",
    "\n",
    "\n",
    "    w = GraphWidget()\n",
    "    # use the converted data to visualize the graph\n",
    "    w.nodes = convert_entities_to_dicts(entity_df)\n",
    "    w.edges = convert_relationships_to_dicts(relationship_df)\n",
    "    w.directed = True\n",
    "    # show title on the node\n",
    "    w.node_label_mapping = \"title\"\n",
    "    # map community to a color\n",
    "    def community_to_color(community):\n",
    "        colors = [\"crimson\", \"darkorange\", \"indigo\", \"cornflowerblue\", \"cyan\", \"teal\", \"green\"]\n",
    "        return colors[int(community) % len(colors)] if community is not None else \"lightgray\"\n",
    "    def edge_to_source_community(edge):\n",
    "        source_node = next((entry for entry in w.nodes if entry[\"properties\"][\"title\"] == edge[\"start\"]), None)\n",
    "        source_node_community = source_node[\"properties\"][\"community\"]\n",
    "        return source_node_community if source_node_community is not None else None\n",
    "    w.node_color_mapping = lambda node : community_to_color(node[\"properties\"][\"community\"])\n",
    "    w.edge_color_mapping = lambda edge : community_to_color(edge_to_source_community(edge))\n",
    "    # map size data to a reasonable factor\n",
    "    w.node_scale_factor_mapping = lambda node : 0.5 + node[\"properties\"][\"size\"] * 1.5 / 20\n",
    "    # use weight for edge thickness\n",
    "    w.edge_thickness_factor_mapping = \"weight\"\n",
    "    # Use the circular layout for this visualization. For larger graphs, the default organic layout is often preferable.\n",
    "    w.circular_layout()\n",
    "    display(w)\n",
    "\n",
    "# pass the dataframes from the parquet files\n",
    "entity_df = pd.read_parquet(\"/workspaces/graphrag/nm-projects/asai/output/20240716-171659/artifacts/create_final_nodes.parquet\")\n",
    "relationship_df = pd.read_parquet(\"/workspaces/graphrag/nm-projects/asai/output/20240716-171659/artifacts/create_final_relationships.parquet\")\n",
    "\n",
    "show_graph(entity_df, relationship_df)"
   ]
  },
  {
   "cell_type": "markdown",
   "metadata": {},
   "source": [
    "## pyvis (not as good as yfiles_jupyter_graphs)"
   ]
  },
  {
   "cell_type": "code",
   "execution_count": null,
   "metadata": {},
   "outputs": [],
   "source": [
    "!pip install pandas networkx pyvis"
   ]
  },
  {
   "cell_type": "code",
   "execution_count": null,
   "metadata": {},
   "outputs": [],
   "source": [
    "import pandas as pd\n",
    "import networkx as nx\n",
    "from pyvis.network import Network\n",
    "\n",
    "df = pd.read_parquet('/workspaces/graphrag/nm-projects/asai/output/20240716-171659/artifacts/create_base_entity_graph.parquet')\n",
    "graphml_data = df.iloc[0]['clustered_graph']\n",
    "graph = nx.parse_graphml(graphml_data.encode('utf-8'))\n",
    "\n",
    "net = Network(notebook=True)\n",
    "net.from_nx(graph)\n",
    "net.show('graph.html')"
   ]
  },
  {
   "cell_type": "code",
   "execution_count": null,
   "metadata": {},
   "outputs": [],
   "source": []
  }
 ],
 "metadata": {
  "kernelspec": {
   "display_name": "Python 3 (ipykernel)",
   "language": "python",
   "name": "python3"
  },
  "language_info": {
   "codemirror_mode": {
    "name": "ipython",
    "version": 3
   },
   "file_extension": ".py",
   "mimetype": "text/x-python",
   "name": "python",
   "nbconvert_exporter": "python",
   "pygments_lexer": "ipython3",
   "version": "3.10.13"
  }
 },
 "nbformat": 4,
 "nbformat_minor": 4
}
