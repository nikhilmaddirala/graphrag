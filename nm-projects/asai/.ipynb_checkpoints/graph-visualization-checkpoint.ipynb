{
 "cells": [
  {
   "cell_type": "markdown",
   "metadata": {},
   "source": [
    "# Visualizing the knowledge graph with `yfiles-jupyter-graphs`\n",
    "\n",
    "This notebook is a partial copy of [local_search.ipynb](../../local_search.ipynb) that shows how to use `yfiles-jupyter-graphs` to add interactive graph visualizations of the parquet files  and how to visualize the result context of `graphrag` queries (see at the end of this notebook)."
   ]
  },
  {
   "cell_type": "code",
   "execution_count": null,
   "metadata": {},
   "outputs": [],
   "source": [
    "# Copyright (c) 2024 Microsoft Corporation.\n",
    "# Licensed under the MIT License."
   ]
  },
  {
   "cell_type": "code",
   "execution_count": 1,
   "metadata": {},
   "outputs": [],
   "source": [
    "import os\n",
    "\n",
    "import pandas as pd\n",
    "import tiktoken\n",
    "\n",
    "from graphrag.query.context_builder.entity_extraction import EntityVectorStoreKey\n",
    "from graphrag.query.indexer_adapters import (\n",
    "    read_indexer_covariates,\n",
    "    read_indexer_entities,\n",
    "    read_indexer_relationships,\n",
    "    read_indexer_reports,\n",
    "    read_indexer_text_units,\n",
    ")\n",
    "from graphrag.query.input.loaders.dfs import (\n",
    "    store_entity_semantic_embeddings,\n",
    ")\n",
    "from graphrag.query.llm.oai.chat_openai import ChatOpenAI\n",
    "from graphrag.query.llm.oai.embedding import OpenAIEmbedding\n",
    "from graphrag.query.llm.oai.typing import OpenaiApiType\n",
    "from graphrag.query.structured_search.local_search.mixed_context import (\n",
    "    LocalSearchMixedContext,\n",
    ")\n",
    "from graphrag.query.structured_search.local_search.search import LocalSearch\n",
    "from graphrag.vector_stores.lancedb import LanceDBVectorStore"
   ]
  },
  {
   "cell_type": "markdown",
   "metadata": {},
   "source": [
    "## Local Search Example\n",
    "\n",
    "Local search method generates answers by combining relevant data from the AI-extracted knowledge-graph with text chunks of the raw documents. This method is suitable for questions that require an understanding of specific entities mentioned in the documents (e.g. What are the healing properties of chamomile?)."
   ]
  },
  {
   "cell_type": "markdown",
   "metadata": {},
   "source": [
    "### Load text units and graph data tables as context for local search\n",
    "\n",
    "- In this test we first load indexing outputs from parquet files to dataframes, then convert these dataframes into collections of data objects aligning with the knowledge model."
   ]
  },
  {
   "cell_type": "markdown",
   "metadata": {},
   "source": [
    "### Load tables to dataframes"
   ]
  },
  {
   "cell_type": "code",
   "execution_count": 2,
   "metadata": {},
   "outputs": [],
   "source": [
    "INPUT_DIR = \"/workspaces/graphrag/nm-projects/asai/output/20240716-171659/artifacts\"\n",
    "LANCEDB_URI = f\"{INPUT_DIR}/lancedb\"\n",
    "\n",
    "COMMUNITY_REPORT_TABLE = \"create_final_community_reports\"\n",
    "ENTITY_TABLE = \"create_final_nodes\"\n",
    "ENTITY_EMBEDDING_TABLE = \"create_final_entities\"\n",
    "RELATIONSHIP_TABLE = \"create_final_relationships\"\n",
    "COVARIATE_TABLE = \"create_final_covariates\"\n",
    "TEXT_UNIT_TABLE = \"create_final_text_units\"\n",
    "COMMUNITY_LEVEL = 2"
   ]
  },
  {
   "cell_type": "markdown",
   "metadata": {},
   "source": [
    "#### Read entities"
   ]
  },
  {
   "cell_type": "code",
   "execution_count": 3,
   "metadata": {},
   "outputs": [],
   "source": [
    "# read nodes table to get community and degree data\n",
    "entity_df = pd.read_parquet(f\"{INPUT_DIR}/{ENTITY_TABLE}.parquet\")\n",
    "entity_embedding_df = pd.read_parquet(f\"{INPUT_DIR}/{ENTITY_EMBEDDING_TABLE}.parquet\")"
   ]
  },
  {
   "cell_type": "markdown",
   "metadata": {},
   "source": [
    "#### Read relationships"
   ]
  },
  {
   "cell_type": "code",
   "execution_count": 4,
   "metadata": {},
   "outputs": [],
   "source": [
    "relationship_df = pd.read_parquet(f\"{INPUT_DIR}/{RELATIONSHIP_TABLE}.parquet\")\n",
    "relationships = read_indexer_relationships(relationship_df)"
   ]
  },
  {
   "cell_type": "markdown",
   "metadata": {},
   "source": [
    "# Visualizing nodes and relationships with `yfiles-jupyter-graphs`\n",
    "\n",
    "`yfiles-jupyter-graphs` is a graph visualization extension that provides interactive and customizable visualizations for structured node and relationship data.\n",
    "\n",
    "In this case, we use it to provide an interactive visualization for the knowledge graph of the [local_search.ipynb](../../local_search.ipynb) sample by passing node and relationship lists converted from the given parquet files. The requirements for the input data is an `id` attribute for the nodes and `start`/`end` properties for the relationships that correspond to the node ids. Additional attributes can be added in the `properties` of each node/relationship dict:"
   ]
  },
  {
   "cell_type": "code",
   "execution_count": 5,
   "metadata": {},
   "outputs": [
    {
     "name": "stdout",
     "output_type": "stream",
     "text": [
      "\n",
      "\u001b[1m[\u001b[0m\u001b[34;49mnotice\u001b[0m\u001b[1;39;49m]\u001b[0m\u001b[39;49m A new release of pip is available: \u001b[0m\u001b[31;49m24.0\u001b[0m\u001b[39;49m -> \u001b[0m\u001b[32;49m24.1.2\u001b[0m\n",
      "\u001b[1m[\u001b[0m\u001b[34;49mnotice\u001b[0m\u001b[1;39;49m]\u001b[0m\u001b[39;49m To update, run: \u001b[0m\u001b[32;49mpython -m pip install --upgrade pip\u001b[0m\n",
      "Note: you may need to restart the kernel to use updated packages.\n"
     ]
    }
   ],
   "source": [
    "%pip install yfiles_jupyter_graphs --quiet\n",
    "from yfiles_jupyter_graphs import GraphWidget\n",
    "\n",
    "\n",
    "# converts the entities dataframe to a list of dicts for yfiles-jupyter-graphs\n",
    "def convert_entities_to_dicts(df):\n",
    "    \"\"\"Convert the entities dataframe to a list of dicts for yfiles-jupyter-graphs.\"\"\"\n",
    "    nodes_dict = {}\n",
    "    for _, row in df.iterrows():\n",
    "        # Create a dictionary for each row and collect unique nodes\n",
    "        node_id = row[\"title\"]\n",
    "        if node_id not in nodes_dict:\n",
    "            nodes_dict[node_id] = {\n",
    "                \"id\": node_id,\n",
    "                \"properties\": row.to_dict(),\n",
    "            }\n",
    "    return list(nodes_dict.values())\n",
    "\n",
    "\n",
    "# converts the relationships dataframe to a list of dicts for yfiles-jupyter-graphs\n",
    "def convert_relationships_to_dicts(df):\n",
    "    \"\"\"Convert the relationships dataframe to a list of dicts for yfiles-jupyter-graphs.\"\"\"\n",
    "    relationships = []\n",
    "    for _, row in df.iterrows():\n",
    "        # Create a dictionary for each row\n",
    "        relationships.append({\n",
    "            \"start\": row[\"source\"],\n",
    "            \"end\": row[\"target\"],\n",
    "            \"properties\": row.to_dict(),\n",
    "        })\n",
    "    return relationships\n",
    "\n",
    "\n",
    "w = GraphWidget()\n",
    "w.directed = True\n",
    "w.nodes = convert_entities_to_dicts(entity_df)\n",
    "w.edges = convert_relationships_to_dicts(relationship_df)"
   ]
  },
  {
   "cell_type": "markdown",
   "metadata": {},
   "source": [
    "## Configure data-driven visualization\n",
    "\n",
    "The additional properties can be used to configure the visualization for different use cases."
   ]
  },
  {
   "cell_type": "code",
   "execution_count": 6,
   "metadata": {},
   "outputs": [],
   "source": [
    "# show title on the node\n",
    "w.node_label_mapping = \"title\"\n",
    "\n",
    "\n",
    "# map community to a color\n",
    "def community_to_color(community):\n",
    "    \"\"\"Map a community to a color.\"\"\"\n",
    "    colors = [\n",
    "        \"crimson\",\n",
    "        \"darkorange\",\n",
    "        \"indigo\",\n",
    "        \"cornflowerblue\",\n",
    "        \"cyan\",\n",
    "        \"teal\",\n",
    "        \"green\",\n",
    "    ]\n",
    "    return (\n",
    "        colors[int(community) % len(colors)] if community is not None else \"lightgray\"\n",
    "    )\n",
    "\n",
    "\n",
    "def edge_to_source_community(edge):\n",
    "    \"\"\"Get the community of the source node of an edge.\"\"\"\n",
    "    source_node = next(\n",
    "        (entry for entry in w.nodes if entry[\"properties\"][\"title\"] == edge[\"start\"]),\n",
    "        None,\n",
    "    )\n",
    "    source_node_community = source_node[\"properties\"][\"community\"]\n",
    "    return source_node_community if source_node_community is not None else None\n",
    "\n",
    "\n",
    "w.node_color_mapping = lambda node: community_to_color(node[\"properties\"][\"community\"])\n",
    "w.edge_color_mapping = lambda edge: community_to_color(edge_to_source_community(edge))\n",
    "# map size data to a reasonable factor\n",
    "w.node_scale_factor_mapping = lambda node: 0.5 + node[\"properties\"][\"size\"] * 1.5 / 20\n",
    "# use weight for edge thickness\n",
    "w.edge_thickness_factor_mapping = \"weight\""
   ]
  },
  {
   "cell_type": "markdown",
   "metadata": {},
   "source": [
    "## Automatic layouts\n",
    "\n",
    "The widget provides different automatic layouts that serve different purposes: `Circular`, `Hierarchic`, `Organic (interactiv or static)`, `Orthogonal`, `Radial`, `Tree`, `Geo-spatial`.\n",
    "\n",
    "For the knowledge graph, this sample uses the `Circular` layout, though `Hierarchic` or `Organic` are also suitable choices."
   ]
  },
  {
   "cell_type": "code",
   "execution_count": 7,
   "metadata": {},
   "outputs": [],
   "source": [
    "# Use the circular layout for this visualization. For larger graphs, the default organic layout is often preferrable.\n",
    "w.circular_layout()"
   ]
  },
  {
   "cell_type": "code",
   "execution_count": 11,
   "metadata": {},
   "outputs": [
    {
     "name": "stdout",
     "output_type": "stream",
     "text": [
      "\n",
      "\u001b[1m[\u001b[0m\u001b[34;49mnotice\u001b[0m\u001b[1;39;49m]\u001b[0m\u001b[39;49m A new release of pip is available: \u001b[0m\u001b[31;49m24.0\u001b[0m\u001b[39;49m -> \u001b[0m\u001b[32;49m24.1.2\u001b[0m\n",
      "\u001b[1m[\u001b[0m\u001b[34;49mnotice\u001b[0m\u001b[1;39;49m]\u001b[0m\u001b[39;49m To update, run: \u001b[0m\u001b[32;49mpython3 -m pip install --upgrade pip\u001b[0m\n"
     ]
    }
   ],
   "source": [
    "## TEST\n",
    "!pip install notebook ipywidgets --quiet\n"
   ]
  },
  {
   "cell_type": "code",
   "execution_count": 14,
   "metadata": {},
   "outputs": [
    {
     "name": "stdout",
     "output_type": "stream",
     "text": [
      "Package                   Version\n",
      "------------------------- --------------\n",
      "aiofiles                  24.1.0\n",
      "aiolimiter                1.1.0\n",
      "annotated-types           0.7.0\n",
      "anyio                     4.4.0\n",
      "anytree                   2.12.1\n",
      "argon2-cffi               23.1.0\n",
      "argon2-cffi-bindings      21.2.0\n",
      "arrow                     1.3.0\n",
      "asttokens                 2.4.1\n",
      "async-lru                 2.0.4\n",
      "attrs                     23.2.0\n",
      "autograd                  1.6.2\n",
      "azure-common              1.1.28\n",
      "azure-core                1.30.2\n",
      "azure-identity            1.17.1\n",
      "azure-search-documents    11.5.0\n",
      "azure-storage-blob        12.20.0\n",
      "Babel                     2.15.0\n",
      "beartype                  0.18.5\n",
      "beautifulsoup4            4.12.3\n",
      "bleach                    6.1.0\n",
      "build                     1.2.1\n",
      "CacheControl              0.14.0\n",
      "cachetools                5.4.0\n",
      "certifi                   2024.2.2\n",
      "cffi                      1.16.0\n",
      "charset-normalizer        3.3.2\n",
      "cleo                      2.1.0\n",
      "click                     8.1.7\n",
      "cloudpickle               3.0.0\n",
      "colorama                  0.4.6\n",
      "comm                      0.2.2\n",
      "contourpy                 1.2.1\n",
      "cramjam                   2.8.3\n",
      "crashtest                 0.4.1\n",
      "cryptography              42.0.8\n",
      "cycler                    0.12.1\n",
      "dask                      2024.7.0\n",
      "dask-expr                 1.1.7\n",
      "datashaper                0.0.49\n",
      "debugpy                   1.8.1\n",
      "decorator                 5.1.1\n",
      "defusedxml                0.7.1\n",
      "deprecation               2.1.0\n",
      "devtools                  0.12.2\n",
      "diskcache                 5.6.3\n",
      "distlib                   0.3.8\n",
      "distro                    1.9.0\n",
      "dulwich                   0.21.7\n",
      "environs                  11.0.0\n",
      "exceptiongroup            1.2.1\n",
      "executing                 2.0.1\n",
      "fastjsonschema            2.19.1\n",
      "fastparquet               2024.5.0\n",
      "filelock                  3.14.0\n",
      "fonttools                 4.52.4\n",
      "fqdn                      1.5.1\n",
      "fsspec                    2024.5.0\n",
      "future                    1.0.0\n",
      "gensim                    4.3.2\n",
      "gitdb                     4.0.11\n",
      "GitPython                 3.1.43\n",
      "graphrag                  0.1.1\n",
      "graspologic               3.4.1\n",
      "graspologic-native        1.2.1\n",
      "h11                       0.14.0\n",
      "httpcore                  1.0.5\n",
      "httpx                     0.27.0\n",
      "hyppo                     0.4.0\n",
      "idna                      3.7\n",
      "importlib_metadata        8.0.0\n",
      "installer                 0.7.0\n",
      "ipykernel                 6.29.4\n",
      "ipython                   8.24.0\n",
      "ipywidgets                8.1.3\n",
      "isodate                   0.6.1\n",
      "isoduration               20.11.0\n",
      "jaraco.classes            3.4.0\n",
      "jedi                      0.19.1\n",
      "jeepney                   0.8.0\n",
      "Jinja2                    3.1.4\n",
      "joblib                    1.4.2\n",
      "json5                     0.9.25\n",
      "jsonpickle                3.2.2\n",
      "jsonpointer               2.4\n",
      "jsonschema                4.22.0\n",
      "jsonschema-specifications 2023.12.1\n",
      "jupyter_client            8.6.2\n",
      "jupyter_core              5.7.2\n",
      "jupyter-events            0.10.0\n",
      "jupyter-lsp               2.2.5\n",
      "jupyter_server            2.14.0\n",
      "jupyter-server-mathjax    0.2.6\n",
      "jupyter_server_terminals  0.5.3\n",
      "jupyterlab                4.2.1\n",
      "jupyterlab_git            0.50.1\n",
      "jupyterlab_pygments       0.3.0\n",
      "jupyterlab_server         2.27.2\n",
      "jupyterlab_widgets        3.0.11\n",
      "keyring                   24.3.1\n",
      "kiwisolver                1.4.5\n",
      "lancedb                   0.9.0\n",
      "linkify-it-py             2.0.3\n",
      "llvmlite                  0.43.0\n",
      "locket                    1.0.0\n",
      "markdown-it-py            3.0.0\n",
      "MarkupSafe                2.1.5\n",
      "marshmallow               3.21.3\n",
      "matplotlib                3.9.0\n",
      "matplotlib-inline         0.1.7\n",
      "mdit-py-plugins           0.4.1\n",
      "mdurl                     0.1.2\n",
      "mistune                   3.0.2\n",
      "more-itertools            10.3.0\n",
      "mpmath                    1.3.0\n",
      "msal                      1.29.0\n",
      "msal-extensions           1.2.0\n",
      "msgpack                   1.0.8\n",
      "nbclient                  0.10.0\n",
      "nbconvert                 7.16.4\n",
      "nbdime                    4.0.1\n",
      "nbformat                  5.10.4\n",
      "nest-asyncio              1.6.0\n",
      "networkx                  3.3\n",
      "nltk                      3.8.1\n",
      "notebook                  7.2.1\n",
      "notebook_shim             0.2.4\n",
      "numba                     0.60.0\n",
      "numpy                     1.26.4\n",
      "openai                    1.35.14\n",
      "overrides                 7.7.0\n",
      "packaging                 24.0\n",
      "pandas                    2.2.2\n",
      "pandocfilters             1.5.1\n",
      "parso                     0.8.4\n",
      "partd                     1.4.2\n",
      "patsy                     0.5.6\n",
      "pexpect                   4.9.0\n",
      "pillow                    10.3.0\n",
      "pip                       24.0\n",
      "pkginfo                   1.11.1\n",
      "platformdirs              4.2.2\n",
      "plotly                    5.22.0\n",
      "poetry                    1.8.3\n",
      "poetry-core               1.9.0\n",
      "poetry-plugin-export      1.8.0\n",
      "portalocker               2.10.1\n",
      "POT                       0.9.4\n",
      "prometheus_client         0.20.0\n",
      "prompt_toolkit            3.0.45\n",
      "psutil                    5.9.8\n",
      "ptyprocess                0.7.0\n",
      "pure-eval                 0.2.2\n",
      "py                        1.11.0\n",
      "pyaml-env                 1.2.1\n",
      "pyarrow                   15.0.0\n",
      "pycparser                 2.22\n",
      "pydantic                  2.8.2\n",
      "pydantic_core             2.20.1\n",
      "Pygments                  2.18.0\n",
      "PyJWT                     2.8.0\n",
      "pylance                   0.13.0\n",
      "pynndescent               0.5.13\n",
      "pyparsing                 3.1.2\n",
      "pyproject_hooks           1.1.0\n",
      "python-dateutil           2.9.0.post0\n",
      "python-dotenv             1.0.1\n",
      "python-json-logger        2.0.7\n",
      "pytz                      2024.1\n",
      "pyvis                     0.3.2\n",
      "PyYAML                    6.0.1\n",
      "pyzmq                     26.0.3\n",
      "rapidfuzz                 3.9.4\n",
      "ratelimiter               1.2.0.post0\n",
      "referencing               0.35.1\n",
      "regex                     2024.5.15\n",
      "requests                  2.32.3\n",
      "requests-toolbelt         1.0.0\n",
      "retry                     0.9.2\n",
      "rfc3339-validator         0.1.4\n",
      "rfc3986-validator         0.1.1\n",
      "rich                      13.7.1\n",
      "rpds-py                   0.18.1\n",
      "scikit-learn              1.5.0\n",
      "scipy                     1.12.0\n",
      "seaborn                   0.13.2\n",
      "SecretStorage             3.3.3\n",
      "Send2Trash                1.8.3\n",
      "setuptools                68.2.2\n",
      "shellingham               1.5.4\n",
      "six                       1.16.0\n",
      "smart-open                7.0.4\n",
      "smmap                     5.0.1\n",
      "sniffio                   1.3.1\n",
      "soupsieve                 2.5\n",
      "stack-data                0.6.3\n",
      "statsmodels               0.14.2\n",
      "swifter                   1.4.0\n",
      "sympy                     1.12.1\n",
      "tenacity                  8.3.0\n",
      "terminado                 0.18.1\n",
      "textual                   0.70.0\n",
      "threadpoolctl             3.5.0\n",
      "tiktoken                  0.7.0\n",
      "tinycss2                  1.3.0\n",
      "tomli                     2.0.1\n",
      "tomlkit                   0.13.0\n",
      "toolz                     0.12.1\n",
      "torch                     2.3.0+cpu\n",
      "tornado                   6.4\n",
      "tqdm                      4.66.4\n",
      "traitlets                 5.14.3\n",
      "trove-classifiers         2024.7.2\n",
      "types-python-dateutil     2.9.0.20240316\n",
      "typing_extensions         4.12.2\n",
      "tzdata                    2024.1\n",
      "uc-micro-py               1.0.3\n",
      "umap-learn                0.5.6\n",
      "uri-template              1.3.0\n",
      "urllib3                   2.0.7\n",
      "uvloop                    0.19.0\n",
      "virtualenv                20.26.3\n",
      "wcwidth                   0.2.13\n",
      "webcolors                 1.13\n",
      "webencodings              0.5.1\n",
      "websocket-client          1.8.0\n",
      "widgetsnbextension        4.0.11\n",
      "wrapt                     1.16.0\n",
      "yfiles_jupyter_graphs     1.7.2\n",
      "zipp                      3.19.2\n",
      "\n",
      "\u001b[1m[\u001b[0m\u001b[34;49mnotice\u001b[0m\u001b[1;39;49m]\u001b[0m\u001b[39;49m A new release of pip is available: \u001b[0m\u001b[31;49m24.0\u001b[0m\u001b[39;49m -> \u001b[0m\u001b[32;49m24.1.2\u001b[0m\n",
      "\u001b[1m[\u001b[0m\u001b[34;49mnotice\u001b[0m\u001b[1;39;49m]\u001b[0m\u001b[39;49m To update, run: \u001b[0m\u001b[32;49mpython3 -m pip install --upgrade pip\u001b[0m\n"
     ]
    }
   ],
   "source": [
    "!pip list\n"
   ]
  },
  {
   "cell_type": "code",
   "execution_count": 13,
   "metadata": {},
   "outputs": [
    {
     "name": "stdout",
     "output_type": "stream",
     "text": [
      "Kernel app:\n",
      "<module 'ipykernel.kernelapp' from '/home/codespace/.local/lib/python3.10/site-packages/ipykernel/kernelapp.py'>\n"
     ]
    }
   ],
   "source": [
    "from ipykernel import kernelapp as app\n",
    "print(\"Kernel app:\")\n",
    "print(app)\n"
   ]
  },
  {
   "cell_type": "markdown",
   "metadata": {},
   "source": [
    "## Display the graph"
   ]
  },
  {
   "cell_type": "code",
   "execution_count": 12,
   "metadata": {},
   "outputs": [
    {
     "data": {
      "application/vnd.jupyter.widget-view+json": {
       "model_id": "079e8a16d8da47a1a07a96dc2ddf23ee",
       "version_major": 2,
       "version_minor": 0
      },
      "text/plain": [
       "GraphWidget(layout=Layout(height='800px', width='100%'))"
      ]
     },
     "metadata": {},
     "output_type": "display_data"
    }
   ],
   "source": [
    "display(w)"
   ]
  },
  {
   "cell_type": "markdown",
   "metadata": {},
   "source": [
    "# Visualizing the result context of `graphrag` queries\n",
    "\n",
    "The result context of `graphrag` queries allow to inspect the context graph of the request. This data can similarly be visualized as graph with `yfiles-jupyter-graphs`.\n",
    "\n",
    "## Making the request\n",
    "\n",
    "The following cell recreates the sample queries from [local_search.ipynb](../../local_search.ipynb)."
   ]
  },
  {
   "cell_type": "code",
   "execution_count": null,
   "metadata": {},
   "outputs": [],
   "source": [
    "# setup (see also ../../local_search.ipynb)\n",
    "entities = read_indexer_entities(entity_df, entity_embedding_df, COMMUNITY_LEVEL)\n",
    "\n",
    "description_embedding_store = LanceDBVectorStore(\n",
    "    collection_name=\"entity_description_embeddings\",\n",
    ")\n",
    "description_embedding_store.connect(db_uri=LANCEDB_URI)\n",
    "entity_description_embeddings = store_entity_semantic_embeddings(\n",
    "    entities=entities, vectorstore=description_embedding_store\n",
    ")\n",
    "covariate_df = pd.read_parquet(f\"{INPUT_DIR}/{COVARIATE_TABLE}.parquet\")\n",
    "claims = read_indexer_covariates(covariate_df)\n",
    "covariates = {\"claims\": claims}\n",
    "report_df = pd.read_parquet(f\"{INPUT_DIR}/{COMMUNITY_REPORT_TABLE}.parquet\")\n",
    "reports = read_indexer_reports(report_df, entity_df, COMMUNITY_LEVEL)\n",
    "text_unit_df = pd.read_parquet(f\"{INPUT_DIR}/{TEXT_UNIT_TABLE}.parquet\")\n",
    "text_units = read_indexer_text_units(text_unit_df)\n",
    "\n",
    "api_key = os.environ[\"GRAPHRAG_API_KEY\"]\n",
    "llm_model = os.environ[\"GRAPHRAG_LLM_MODEL\"]\n",
    "embedding_model = os.environ[\"GRAPHRAG_EMBEDDING_MODEL\"]\n",
    "\n",
    "llm = ChatOpenAI(\n",
    "    api_key=api_key,\n",
    "    model=llm_model,\n",
    "    api_type=OpenaiApiType.OpenAI,  # OpenaiApiType.OpenAI or OpenaiApiType.AzureOpenAI\n",
    "    max_retries=20,\n",
    ")\n",
    "\n",
    "token_encoder = tiktoken.get_encoding(\"cl100k_base\")\n",
    "\n",
    "text_embedder = OpenAIEmbedding(\n",
    "    api_key=api_key,\n",
    "    api_base=None,\n",
    "    api_type=OpenaiApiType.OpenAI,\n",
    "    model=embedding_model,\n",
    "    deployment_name=embedding_model,\n",
    "    max_retries=20,\n",
    ")\n",
    "\n",
    "context_builder = LocalSearchMixedContext(\n",
    "    community_reports=reports,\n",
    "    text_units=text_units,\n",
    "    entities=entities,\n",
    "    relationships=relationships,\n",
    "    covariates=covariates,\n",
    "    entity_text_embeddings=description_embedding_store,\n",
    "    embedding_vectorstore_key=EntityVectorStoreKey.ID,  # if the vectorstore uses entity title as ids, set this to EntityVectorStoreKey.TITLE\n",
    "    text_embedder=text_embedder,\n",
    "    token_encoder=token_encoder,\n",
    ")\n",
    "\n",
    "local_context_params = {\n",
    "    \"text_unit_prop\": 0.5,\n",
    "    \"community_prop\": 0.1,\n",
    "    \"conversation_history_max_turns\": 5,\n",
    "    \"conversation_history_user_turns_only\": True,\n",
    "    \"top_k_mapped_entities\": 10,\n",
    "    \"top_k_relationships\": 10,\n",
    "    \"include_entity_rank\": True,\n",
    "    \"include_relationship_weight\": True,\n",
    "    \"include_community_rank\": False,\n",
    "    \"return_candidate_context\": False,\n",
    "    \"embedding_vectorstore_key\": EntityVectorStoreKey.ID,  # set this to EntityVectorStoreKey.TITLE if the vectorstore uses entity title as ids\n",
    "    \"max_tokens\": 12_000,  # change this based on the token limit you have on your model (if you are using a model with 8k limit, a good setting could be 5000)\n",
    "}\n",
    "\n",
    "llm_params = {\n",
    "    \"max_tokens\": 2_000,  # change this based on the token limit you have on your model (if you are using a model with 8k limit, a good setting could be 1000=1500)\n",
    "    \"temperature\": 0.0,\n",
    "}\n",
    "\n",
    "search_engine = LocalSearch(\n",
    "    llm=llm,\n",
    "    context_builder=context_builder,\n",
    "    token_encoder=token_encoder,\n",
    "    llm_params=llm_params,\n",
    "    context_builder_params=local_context_params,\n",
    "    response_type=\"multiple paragraphs\",  # free form text describing the response type and format, can be anything, e.g. prioritized list, single paragraph, multiple paragraphs, multiple-page report\n",
    ")"
   ]
  },
  {
   "cell_type": "markdown",
   "metadata": {},
   "source": [
    "## Run local search on sample queries"
   ]
  },
  {
   "cell_type": "code",
   "execution_count": null,
   "metadata": {},
   "outputs": [],
   "source": [
    "result = await search_engine.asearch(\"Tell me about Agent Mercer\")\n",
    "print(result.response)"
   ]
  },
  {
   "cell_type": "code",
   "execution_count": null,
   "metadata": {},
   "outputs": [],
   "source": [
    "question = \"Tell me about Dr. Jordan Hayes\"\n",
    "result = await search_engine.asearch(question)\n",
    "print(result.response)"
   ]
  },
  {
   "cell_type": "markdown",
   "metadata": {},
   "source": [
    "## Inspecting the context data used to generate the response"
   ]
  },
  {
   "cell_type": "code",
   "execution_count": null,
   "metadata": {},
   "outputs": [],
   "source": [
    "result.context_data[\"entities\"].head()"
   ]
  },
  {
   "cell_type": "code",
   "execution_count": null,
   "metadata": {},
   "outputs": [],
   "source": [
    "result.context_data[\"relationships\"].head()"
   ]
  },
  {
   "cell_type": "markdown",
   "metadata": {},
   "source": [
    "## Visualizing the result context as graph"
   ]
  },
  {
   "cell_type": "code",
   "execution_count": null,
   "metadata": {},
   "outputs": [],
   "source": [
    "\"\"\"\n",
    "Helper function to visualize the result context with `yfiles-jupyter-graphs`.\n",
    "\n",
    "The dataframes are converted into supported nodes and relationships lists and then passed to yfiles-jupyter-graphs.\n",
    "Additionally, some values are mapped to visualization properties.\n",
    "\"\"\"\n",
    "\n",
    "\n",
    "def show_graph(result):\n",
    "    \"\"\"Visualize the result context with yfiles-jupyter-graphs.\"\"\"\n",
    "    from yfiles_jupyter_graphs import GraphWidget\n",
    "\n",
    "    if (\n",
    "        \"entities\" not in result.context_data\n",
    "        or \"relationships\" not in result.context_data\n",
    "    ):\n",
    "        msg = \"The passed results do not contain 'entities' or 'relationships'\"\n",
    "        raise ValueError(msg)\n",
    "\n",
    "    # converts the entities dataframe to a list of dicts for yfiles-jupyter-graphs\n",
    "    def convert_entities_to_dicts(df):\n",
    "        \"\"\"Convert the entities dataframe to a list of dicts for yfiles-jupyter-graphs.\"\"\"\n",
    "        nodes_dict = {}\n",
    "        for _, row in df.iterrows():\n",
    "            # Create a dictionary for each row and collect unique nodes\n",
    "            node_id = row[\"entity\"]\n",
    "            if node_id not in nodes_dict:\n",
    "                nodes_dict[node_id] = {\n",
    "                    \"id\": node_id,\n",
    "                    \"properties\": row.to_dict(),\n",
    "                }\n",
    "        return list(nodes_dict.values())\n",
    "\n",
    "    # converts the relationships dataframe to a list of dicts for yfiles-jupyter-graphs\n",
    "    def convert_relationships_to_dicts(df):\n",
    "        \"\"\"Convert the relationships dataframe to a list of dicts for yfiles-jupyter-graphs.\"\"\"\n",
    "        relationships = []\n",
    "        for _, row in df.iterrows():\n",
    "            # Create a dictionary for each row\n",
    "            relationships.append({\n",
    "                \"start\": row[\"source\"],\n",
    "                \"end\": row[\"target\"],\n",
    "                \"properties\": row.to_dict(),\n",
    "            })\n",
    "        return relationships\n",
    "\n",
    "    w = GraphWidget()\n",
    "    # use the converted data to visualize the graph\n",
    "    w.nodes = convert_entities_to_dicts(result.context_data[\"entities\"])\n",
    "    w.edges = convert_relationships_to_dicts(result.context_data[\"relationships\"])\n",
    "    w.directed = True\n",
    "    # show title on the node\n",
    "    w.node_label_mapping = \"entity\"\n",
    "    # use weight for edge thickness\n",
    "    w.edge_thickness_factor_mapping = \"weight\"\n",
    "    display(w)\n",
    "\n",
    "\n",
    "show_graph(result)"
   ]
  }
 ],
 "metadata": {
  "kernelspec": {
   "display_name": "Python 3 (ipykernel)",
   "language": "python",
   "name": "python3"
  },
  "language_info": {
   "codemirror_mode": {
    "name": "ipython",
    "version": 3
   },
   "file_extension": ".py",
   "mimetype": "text/x-python",
   "name": "python",
   "nbconvert_exporter": "python",
   "pygments_lexer": "ipython3",
   "version": "3.10.13"
  }
 },
 "nbformat": 4,
 "nbformat_minor": 4
}
