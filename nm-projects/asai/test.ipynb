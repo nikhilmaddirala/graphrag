{
 "cells": [
  {
   "cell_type": "code",
   "execution_count": null,
   "metadata": {},
   "outputs": [],
   "source": [
    "%%capture\n",
    "%poetry build\n",
    "%poetry install"
   ]
  },
  {
   "cell_type": "code",
   "execution_count": 1,
   "metadata": {},
   "outputs": [],
   "source": [
    "%%capture\n",
    "%pip install python-dotenv"
   ]
  },
  {
   "cell_type": "code",
   "execution_count": 1,
   "metadata": {},
   "outputs": [
    {
     "data": {
      "text/plain": [
       "True"
      ]
     },
     "execution_count": 1,
     "metadata": {},
     "output_type": "execute_result"
    }
   ],
   "source": [
    "# Load environment variables\n",
    "from dotenv import load_dotenv\n",
    "load_dotenv()"
   ]
  },
  {
   "cell_type": "code",
   "execution_count": null,
   "metadata": {},
   "outputs": [],
   "source": [
    "# Initialize project\n",
    "!python -m graphrag.index --init --root ./nm-projects/asai"
   ]
  },
  {
   "cell_type": "code",
   "execution_count": 4,
   "metadata": {},
   "outputs": [
    {
     "name": "stdout",
     "output_type": "stream",
     "text": [
      "\u001b[2K🚀 \u001b[32mReading settings from environment variables\u001b[0m\n",
      "\u001b[2KTraceback (most recent call last):\n",
      "  File \"/usr/local/python/3.10.13/lib/python3.10/runpy.py\", line 196, in \n",
      "_run_module_as_main\n",
      "    return _run_code(code, main_globals, None,\n",
      "  File \"/usr/local/python/3.10.13/lib/python3.10/runpy.py\", line 86, in \n",
      "_run_code\n",
      "    exec(code, run_globals)\n",
      "  File \"/workspaces/graphrag/graphrag/index/__main__.py\", line 76, in <module>\n",
      "    index_cli(\n",
      "  File \"/workspaces/graphrag/graphrag/index/cli.py\", line 161, in index_cli\n",
      "    _run_workflow_async()\n",
      "  File \"/workspaces/graphrag/graphrag/index/cli.py\", line 159, in \n",
      "_run_workflow_async\n",
      "    asyncio.run(execute())\n",
      "  File \"/usr/local/python/3.10.13/lib/python3.10/asyncio/runners.py\", line 44, \n",
      "in run\n",
      "    return loop.run_until_complete(main)\n",
      "  File \"uvloop/loop.pyx\", line 1517, in uvloop.loop.Loop.run_until_complete\n",
      "  File \"/workspaces/graphrag/graphrag/index/cli.py\", line 123, in execute\n",
      "    async for output in run_pipeline_with_config(\n",
      "  File \"/workspaces/graphrag/graphrag/index/run.py\", line 144, in \n",
      "run_pipeline_with_config\n",
      "    dataset = dataset if dataset is not None else await \n",
      "_create_input(config.input)\n",
      "  File \"/workspaces/graphrag/graphrag/index/run.py\", line 133, in _create_input\n",
      "    return await load_input(config, progress_reporter, root_dir)\n",
      "  File \"/workspaces/graphrag/graphrag/index/input/load_input.py\", line 81, in \n",
      "load_input\n",
      "    results = await loader(config, progress, storage)\n",
      "  File \"/workspaces/graphrag/graphrag/index/input/text.py\", line 52, in load\n",
      "    raise ValueError(msg)\n",
      "ValueError: No text files found in input\n",
      "⠋ GraphRAG Indexer "
     ]
    }
   ],
   "source": [
    "# Index the inputs\n",
    "!python -m graphrag.index --root ./nm-projects/asai"
   ]
  },
  {
   "cell_type": "code",
   "execution_count": null,
   "metadata": {},
   "outputs": [],
   "source": []
  }
 ],
 "metadata": {
  "kernelspec": {
   "display_name": "graphrag-ewrbjEk8-py3.10",
   "language": "python",
   "name": "python3"
  },
  "language_info": {
   "codemirror_mode": {
    "name": "ipython",
    "version": 3
   },
   "file_extension": ".py",
   "mimetype": "text/x-python",
   "name": "python",
   "nbconvert_exporter": "python",
   "pygments_lexer": "ipython3",
   "version": "3.10.13"
  }
 },
 "nbformat": 4,
 "nbformat_minor": 2
}
