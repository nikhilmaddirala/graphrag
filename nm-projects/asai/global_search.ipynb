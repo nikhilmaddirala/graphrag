{
 "cells": [
  {
   "cell_type": "code",
   "execution_count": 1,
   "metadata": {},
   "outputs": [
    {
     "data": {
      "text/plain": [
       "'\\nCopyright (c) Microsoft Corporation.\\n'"
      ]
     },
     "execution_count": 1,
     "metadata": {},
     "output_type": "execute_result"
    }
   ],
   "source": [
    "# Copyright (c) 2024 Microsoft Corporation.\n",
    "# Licensed under the MIT License."
   ]
  },
  {
   "cell_type": "code",
   "execution_count": 2,
   "metadata": {},
   "outputs": [],
   "source": [
    "%%capture\n",
    "!pip install pandas tiktoken graphrag"
   ]
  },
  {
   "cell_type": "code",
   "execution_count": 13,
   "metadata": {},
   "outputs": [
    {
     "data": {
      "text/plain": [
       "True"
      ]
     },
     "execution_count": 13,
     "metadata": {},
     "output_type": "execute_result"
    }
   ],
   "source": [
    "# Load environment variables\n",
    "from dotenv import load_dotenv\n",
    "load_dotenv()"
   ]
  },
  {
   "cell_type": "code",
   "execution_count": 3,
   "metadata": {},
   "outputs": [
    {
     "name": "stderr",
     "output_type": "stream",
     "text": [
      "/usr/local/python/3.10.13/lib/python3.10/site-packages/tqdm/auto.py:21: TqdmWarning: IProgress not found. Please update jupyter and ipywidgets. See https://ipywidgets.readthedocs.io/en/stable/user_install.html\n",
      "  from .autonotebook import tqdm as notebook_tqdm\n"
     ]
    }
   ],
   "source": [
    "import os\n",
    "\n",
    "import pandas as pd\n",
    "import tiktoken\n",
    "\n",
    "from graphrag.query.indexer_adapters import read_indexer_entities, read_indexer_reports\n",
    "from graphrag.query.llm.oai.chat_openai import ChatOpenAI\n",
    "from graphrag.query.llm.oai.typing import OpenaiApiType\n",
    "from graphrag.query.structured_search.global_search.community_context import (\n",
    "    GlobalCommunityContext,\n",
    ")\n",
    "from graphrag.query.structured_search.global_search.search import GlobalSearch"
   ]
  },
  {
   "cell_type": "markdown",
   "metadata": {},
   "source": [
    "## Global Search example\n",
    "\n",
    "Global search method generates answers by searching over all AI-generated community reports in a map-reduce fashion. This is a resource-intensive method, but often gives good responses for questions that require an understanding of the dataset as a whole (e.g. What are the most significant values of the herbs mentioned in this notebook?)."
   ]
  },
  {
   "cell_type": "markdown",
   "metadata": {},
   "source": [
    "### LLM setup"
   ]
  },
  {
   "cell_type": "code",
   "execution_count": 14,
   "metadata": {},
   "outputs": [],
   "source": [
    "api_key = os.environ[\"GRAPHRAG_API_KEY\"]\n",
    "llm_model = os.environ[\"GRAPHRAG_LLM_MODEL\"]\n",
    "\n",
    "llm = ChatOpenAI(\n",
    "    api_key=api_key,\n",
    "    model=llm_model,\n",
    "    api_type=OpenaiApiType.OpenAI,  # OpenaiApiType.OpenAI or OpenaiApiType.AzureOpenAI\n",
    "    max_retries=20,\n",
    ")\n",
    "\n",
    "token_encoder = tiktoken.get_encoding(\"cl100k_base\")"
   ]
  },
  {
   "cell_type": "markdown",
   "metadata": {},
   "source": [
    "### Load community reports as context for global search\n",
    "\n",
    "- Load all community reports in the `create_final_community_reports` table from the ire-indexing engine, to be used as context data for global search.\n",
    "- Load entities from the `create_final_nodes` and `create_final_entities` tables from the ire-indexing engine, to be used for calculating community weights for context ranking. Note that this is optional (if no entities are provided, we will not calculate community weights and only use the `rank` attribute in the community reports table for context ranking)"
   ]
  },
  {
   "cell_type": "code",
   "execution_count": 10,
   "metadata": {},
   "outputs": [],
   "source": [
    "# parquet files generated from indexing pipeline\n",
    "INPUT_DIR = \"/workspaces/graphrag/nm-projects/asai/output/20240716-153628/artifacts/\"\n",
    "COMMUNITY_REPORT_TABLE = \"create_final_community_reports\"\n",
    "ENTITY_TABLE = \"create_final_nodes\"\n",
    "ENTITY_EMBEDDING_TABLE = \"create_final_entities\"\n",
    "# community level in the Leiden community hierarchy from which we will load the community reports\n",
    "# higher value means we use reports from more fine-grained communities (at the cost of higher computation cost)\n",
    "COMMUNITY_LEVEL = 2"
   ]
  },
  {
   "cell_type": "code",
   "execution_count": 11,
   "metadata": {},
   "outputs": [
    {
     "name": "stderr",
     "output_type": "stream",
     "text": [
      "/usr/local/python/3.10.13/lib/python3.10/site-packages/graphrag/query/indexer_adapters.py:71: SettingWithCopyWarning: \n",
      "A value is trying to be set on a copy of a slice from a DataFrame.\n",
      "Try using .loc[row_indexer,col_indexer] = value instead\n",
      "\n",
      "See the caveats in the documentation: https://pandas.pydata.org/pandas-docs/stable/user_guide/indexing.html#returning-a-view-versus-a-copy\n",
      "  entity_df[\"community\"] = entity_df[\"community\"].fillna(-1)\n",
      "/usr/local/python/3.10.13/lib/python3.10/site-packages/graphrag/query/indexer_adapters.py:72: SettingWithCopyWarning: \n",
      "A value is trying to be set on a copy of a slice from a DataFrame.\n",
      "Try using .loc[row_indexer,col_indexer] = value instead\n",
      "\n",
      "See the caveats in the documentation: https://pandas.pydata.org/pandas-docs/stable/user_guide/indexing.html#returning-a-view-versus-a-copy\n",
      "  entity_df[\"community\"] = entity_df[\"community\"].astype(int)\n"
     ]
    },
    {
     "name": "stdout",
     "output_type": "stream",
     "text": [
      "Report records: 137\n"
     ]
    },
    {
     "data": {
      "text/html": [
       "<div>\n",
       "<style scoped>\n",
       "    .dataframe tbody tr th:only-of-type {\n",
       "        vertical-align: middle;\n",
       "    }\n",
       "\n",
       "    .dataframe tbody tr th {\n",
       "        vertical-align: top;\n",
       "    }\n",
       "\n",
       "    .dataframe thead th {\n",
       "        text-align: right;\n",
       "    }\n",
       "</style>\n",
       "<table border=\"1\" class=\"dataframe\">\n",
       "  <thead>\n",
       "    <tr style=\"text-align: right;\">\n",
       "      <th></th>\n",
       "      <th>community</th>\n",
       "      <th>full_content</th>\n",
       "      <th>level</th>\n",
       "      <th>rank</th>\n",
       "      <th>title</th>\n",
       "      <th>rank_explanation</th>\n",
       "      <th>summary</th>\n",
       "      <th>findings</th>\n",
       "      <th>full_content_json</th>\n",
       "      <th>id</th>\n",
       "    </tr>\n",
       "  </thead>\n",
       "  <tbody>\n",
       "    <tr>\n",
       "      <th>0</th>\n",
       "      <td>141</td>\n",
       "      <td># GPT and Related Entities\\n\\nThe community re...</td>\n",
       "      <td>4</td>\n",
       "      <td>8.5</td>\n",
       "      <td>GPT and Related Entities</td>\n",
       "      <td>The impact severity rating is high due to the ...</td>\n",
       "      <td>The community revolves around GPT, a versatile...</td>\n",
       "      <td>[{'explanation': 'Nikhil Maddirala provides de...</td>\n",
       "      <td>{\\n    \"title\": \"GPT and Related Entities\",\\n ...</td>\n",
       "      <td>a7fd871a-7311-4384-86ac-730b43f9ab3f</td>\n",
       "    </tr>\n",
       "    <tr>\n",
       "      <th>1</th>\n",
       "      <td>140</td>\n",
       "      <td># Nikhil Maddirala and AI Technology\\n\\nThe co...</td>\n",
       "      <td>4</td>\n",
       "      <td>8.5</td>\n",
       "      <td>Nikhil Maddirala and AI Technology</td>\n",
       "      <td>The impact severity rating is high due to Nikh...</td>\n",
       "      <td>The community revolves around Nikhil Maddirala...</td>\n",
       "      <td>[{'explanation': 'Nikhil Maddirala is a key fi...</td>\n",
       "      <td>{\\n    \"title\": \"Nikhil Maddirala and AI Techn...</td>\n",
       "      <td>3379911d-8a50-4339-a5a4-58e1b1259711</td>\n",
       "    </tr>\n",
       "    <tr>\n",
       "      <th>2</th>\n",
       "      <td>129</td>\n",
       "      <td># Linear Regression and Home Price Prediction\\...</td>\n",
       "      <td>3</td>\n",
       "      <td>7.5</td>\n",
       "      <td>Linear Regression and Home Price Prediction</td>\n",
       "      <td>The impact severity rating is high due to the ...</td>\n",
       "      <td>The community revolves around the topics of Li...</td>\n",
       "      <td>[{'explanation': 'Nikhil Maddirala demonstrate...</td>\n",
       "      <td>{\\n    \"title\": \"Linear Regression and Home Pr...</td>\n",
       "      <td>9fd58f28-de2a-463a-ac02-a9fdcfdac77c</td>\n",
       "    </tr>\n",
       "    <tr>\n",
       "      <th>3</th>\n",
       "      <td>131</td>\n",
       "      <td># Neural Networks and Discussions\\n\\nThe commu...</td>\n",
       "      <td>3</td>\n",
       "      <td>7.5</td>\n",
       "      <td>Neural Networks and Discussions</td>\n",
       "      <td>The impact severity rating is high due to the ...</td>\n",
       "      <td>The community revolves around discussions rela...</td>\n",
       "      <td>[{'explanation': 'Nikhil Maddirala is a key fi...</td>\n",
       "      <td>{\\n    \"title\": \"Neural Networks and Discussio...</td>\n",
       "      <td>abcf7478-b4a6-42cb-a382-2f4e47a1749f</td>\n",
       "    </tr>\n",
       "    <tr>\n",
       "      <th>4</th>\n",
       "      <td>133</td>\n",
       "      <td># Machine Learning and Nikhil Maddirala\\n\\nThe...</td>\n",
       "      <td>3</td>\n",
       "      <td>7.5</td>\n",
       "      <td>Machine Learning and Nikhil Maddirala</td>\n",
       "      <td>The impact severity rating is high due to the ...</td>\n",
       "      <td>The community revolves around the concept of M...</td>\n",
       "      <td>[{'explanation': 'Nikhil Maddirala delves into...</td>\n",
       "      <td>{\\n    \"title\": \"Machine Learning and Nikhil M...</td>\n",
       "      <td>df56cb58-347c-43e9-ae6a-dc1d9f85be8c</td>\n",
       "    </tr>\n",
       "  </tbody>\n",
       "</table>\n",
       "</div>"
      ],
      "text/plain": [
       "  community                                       full_content  level  rank  \\\n",
       "0       141  # GPT and Related Entities\\n\\nThe community re...      4   8.5   \n",
       "1       140  # Nikhil Maddirala and AI Technology\\n\\nThe co...      4   8.5   \n",
       "2       129  # Linear Regression and Home Price Prediction\\...      3   7.5   \n",
       "3       131  # Neural Networks and Discussions\\n\\nThe commu...      3   7.5   \n",
       "4       133  # Machine Learning and Nikhil Maddirala\\n\\nThe...      3   7.5   \n",
       "\n",
       "                                         title  \\\n",
       "0                     GPT and Related Entities   \n",
       "1           Nikhil Maddirala and AI Technology   \n",
       "2  Linear Regression and Home Price Prediction   \n",
       "3              Neural Networks and Discussions   \n",
       "4        Machine Learning and Nikhil Maddirala   \n",
       "\n",
       "                                    rank_explanation  \\\n",
       "0  The impact severity rating is high due to the ...   \n",
       "1  The impact severity rating is high due to Nikh...   \n",
       "2  The impact severity rating is high due to the ...   \n",
       "3  The impact severity rating is high due to the ...   \n",
       "4  The impact severity rating is high due to the ...   \n",
       "\n",
       "                                             summary  \\\n",
       "0  The community revolves around GPT, a versatile...   \n",
       "1  The community revolves around Nikhil Maddirala...   \n",
       "2  The community revolves around the topics of Li...   \n",
       "3  The community revolves around discussions rela...   \n",
       "4  The community revolves around the concept of M...   \n",
       "\n",
       "                                            findings  \\\n",
       "0  [{'explanation': 'Nikhil Maddirala provides de...   \n",
       "1  [{'explanation': 'Nikhil Maddirala is a key fi...   \n",
       "2  [{'explanation': 'Nikhil Maddirala demonstrate...   \n",
       "3  [{'explanation': 'Nikhil Maddirala is a key fi...   \n",
       "4  [{'explanation': 'Nikhil Maddirala delves into...   \n",
       "\n",
       "                                   full_content_json  \\\n",
       "0  {\\n    \"title\": \"GPT and Related Entities\",\\n ...   \n",
       "1  {\\n    \"title\": \"Nikhil Maddirala and AI Techn...   \n",
       "2  {\\n    \"title\": \"Linear Regression and Home Pr...   \n",
       "3  {\\n    \"title\": \"Neural Networks and Discussio...   \n",
       "4  {\\n    \"title\": \"Machine Learning and Nikhil M...   \n",
       "\n",
       "                                     id  \n",
       "0  a7fd871a-7311-4384-86ac-730b43f9ab3f  \n",
       "1  3379911d-8a50-4339-a5a4-58e1b1259711  \n",
       "2  9fd58f28-de2a-463a-ac02-a9fdcfdac77c  \n",
       "3  abcf7478-b4a6-42cb-a382-2f4e47a1749f  \n",
       "4  df56cb58-347c-43e9-ae6a-dc1d9f85be8c  "
      ]
     },
     "execution_count": 11,
     "metadata": {},
     "output_type": "execute_result"
    }
   ],
   "source": [
    "entity_df = pd.read_parquet(f\"{INPUT_DIR}/{ENTITY_TABLE}.parquet\")\n",
    "report_df = pd.read_parquet(f\"{INPUT_DIR}/{COMMUNITY_REPORT_TABLE}.parquet\")\n",
    "entity_embedding_df = pd.read_parquet(f\"{INPUT_DIR}/{ENTITY_EMBEDDING_TABLE}.parquet\")\n",
    "\n",
    "reports = read_indexer_reports(report_df, entity_df, COMMUNITY_LEVEL)\n",
    "entities = read_indexer_entities(entity_df, entity_embedding_df, COMMUNITY_LEVEL)\n",
    "print(f\"Report records: {len(report_df)}\")\n",
    "report_df.head()"
   ]
  },
  {
   "cell_type": "markdown",
   "metadata": {},
   "source": [
    "#### Build global context based on community reports"
   ]
  },
  {
   "cell_type": "code",
   "execution_count": 15,
   "metadata": {},
   "outputs": [],
   "source": [
    "context_builder = GlobalCommunityContext(\n",
    "    community_reports=reports,\n",
    "    entities=entities,  # default to None if you don't want to use community weights for ranking\n",
    "    token_encoder=token_encoder,\n",
    ")"
   ]
  },
  {
   "cell_type": "markdown",
   "metadata": {},
   "source": [
    "#### Perform global search"
   ]
  },
  {
   "cell_type": "code",
   "execution_count": 16,
   "metadata": {},
   "outputs": [],
   "source": [
    "context_builder_params = {\n",
    "    \"use_community_summary\": False,  # False means using full community reports. True means using community short summaries.\n",
    "    \"shuffle_data\": True,\n",
    "    \"include_community_rank\": True,\n",
    "    \"min_community_rank\": 0,\n",
    "    \"community_rank_name\": \"rank\",\n",
    "    \"include_community_weight\": True,\n",
    "    \"community_weight_name\": \"occurrence weight\",\n",
    "    \"normalize_community_weight\": True,\n",
    "    \"max_tokens\": 12_000,  # change this based on the token limit you have on your model (if you are using a model with 8k limit, a good setting could be 5000)\n",
    "    \"context_name\": \"Reports\",\n",
    "}\n",
    "\n",
    "map_llm_params = {\n",
    "    \"max_tokens\": 1000,\n",
    "    \"temperature\": 0.0,\n",
    "    \"response_format\": {\"type\": \"json_object\"},\n",
    "}\n",
    "\n",
    "reduce_llm_params = {\n",
    "    \"max_tokens\": 2000,  # change this based on the token limit you have on your model (if you are using a model with 8k limit, a good setting could be 1000-1500)\n",
    "    \"temperature\": 0.0,\n",
    "}"
   ]
  },
  {
   "cell_type": "code",
   "execution_count": 17,
   "metadata": {},
   "outputs": [],
   "source": [
    "search_engine = GlobalSearch(\n",
    "    llm=llm,\n",
    "    context_builder=context_builder,\n",
    "    token_encoder=token_encoder,\n",
    "    max_data_tokens=12_000,  # change this based on the token limit you have on your model (if you are using a model with 8k limit, a good setting could be 5000)\n",
    "    map_llm_params=map_llm_params,\n",
    "    reduce_llm_params=reduce_llm_params,\n",
    "    allow_general_knowledge=False,  # set this to True will add instruction to encourage the LLM to incorporate general knowledge in the response, which may increase hallucinations, but could be useful in some use cases.\n",
    "    json_mode=True,  # set this to False if your LLM model does not support JSON mode.\n",
    "    context_builder_params=context_builder_params,\n",
    "    concurrent_coroutines=32,\n",
    "    response_type=\"multiple paragraphs\",  # free form text describing the response type and format, can be anything, e.g. prioritized list, single paragraph, multiple paragraphs, multiple-page report\n",
    ")"
   ]
  },
  {
   "cell_type": "code",
   "execution_count": 18,
   "metadata": {},
   "outputs": [
    {
     "name": "stdout",
     "output_type": "stream",
     "text": [
      "### Unique and Interesting Claims about AI from Analyst Reports\n",
      "\n",
      "In exploring the realm of Artificial Intelligence (AI), several analysts have delved into intriguing perspectives and claims, shedding light on the transformative potential of AI technologies. One notable assertion compares AI to historical advancements like fire and electricity, emphasizing its profound impact on humanity [Data: Reports (118)]. This comparison not only underscores the significance of AI in shaping human evolution but also hints at the revolutionary nature of AI in driving societal changes akin to historical milestones.\n",
      "\n",
      "Moreover, discussions within the community have highlighted AI's role in personal knowledge management, portraying it as a tool for capturing and organizing information akin to a \"second brain\" [Data: Reports (118)]. This unique perspective showcases AI's capacity to augment individual cognitive processes and enhance personal efficiency through advanced information processing capabilities.\n",
      "\n",
      "Furthermore, the podcast hosted by Nikhil Maddirala and Piyush Agarwal, titled 'The Art and Science of AI,' offers a distinctive blend of artistic and scientific elements in exploring AI applications [Data: Reports (75)]. By delving into the art of using AI to reimagine life, business, and society, the podcast not only educates but also inspires listeners to perceive AI through a creative lens, transcending traditional technological discourse.\n",
      "\n",
      "Additionally, the comparison of AI to the historical significance of fire in shaping human evolution stands out as a thought-provoking analogy [Data: Reports (14)]. This comparison not only underscores the monumental impact of AI on humanity but also draws parallels between the transformative nature of fire in ancient times and the potential of AI to revolutionize modern society.\n",
      "\n",
      "Lastly, the emphasis on AI's implications for industries, including budget allocation, ad campaign optimization, and the disruption of traditional business models, presents a multifaceted view of AI's potential across various sectors [Data: Reports (118)]. These claims collectively paint a vivid picture of AI's versatility and far-reaching impact, showcasing its capacity to revolutionize industries and redefine conventional business practices.\n",
      "\n",
      "In summary, the diverse array of claims made about AI in the podcast reflects a rich tapestry of perspectives, ranging from historical analogies to practical applications, all converging to illustrate the profound implications of AI on humanity and society at large.\n"
     ]
    }
   ],
   "source": [
    "result = await search_engine.asearch(\n",
    "    \"What are the most unique and interesting claims made about AI in this podcast?\"\n",
    ")\n",
    "\n",
    "print(result.response)"
   ]
  },
  {
   "cell_type": "code",
   "execution_count": 19,
   "metadata": {},
   "outputs": [
    {
     "data": {
      "text/html": [
       "<div>\n",
       "<style scoped>\n",
       "    .dataframe tbody tr th:only-of-type {\n",
       "        vertical-align: middle;\n",
       "    }\n",
       "\n",
       "    .dataframe tbody tr th {\n",
       "        vertical-align: top;\n",
       "    }\n",
       "\n",
       "    .dataframe thead th {\n",
       "        text-align: right;\n",
       "    }\n",
       "</style>\n",
       "<table border=\"1\" class=\"dataframe\">\n",
       "  <thead>\n",
       "    <tr style=\"text-align: right;\">\n",
       "      <th></th>\n",
       "      <th>id</th>\n",
       "      <th>title</th>\n",
       "      <th>occurrence weight</th>\n",
       "      <th>content</th>\n",
       "      <th>rank</th>\n",
       "    </tr>\n",
       "  </thead>\n",
       "  <tbody>\n",
       "    <tr>\n",
       "      <th>0</th>\n",
       "      <td>118</td>\n",
       "      <td>AI and Technology Ecosystem</td>\n",
       "      <td>0.154294</td>\n",
       "      <td># AI and Technology Ecosystem\\n\\nThe community...</td>\n",
       "      <td>8.5</td>\n",
       "    </tr>\n",
       "    <tr>\n",
       "      <th>1</th>\n",
       "      <td>99</td>\n",
       "      <td>Apple and AI Ecosystem</td>\n",
       "      <td>0.144105</td>\n",
       "      <td># Apple and AI Ecosystem\\n\\nThe community revo...</td>\n",
       "      <td>8.5</td>\n",
       "    </tr>\n",
       "    <tr>\n",
       "      <th>2</th>\n",
       "      <td>115</td>\n",
       "      <td>Nikhil and AI Ecosystem</td>\n",
       "      <td>0.101892</td>\n",
       "      <td># Nikhil and AI Ecosystem\\n\\nThe community rev...</td>\n",
       "      <td>8.5</td>\n",
       "    </tr>\n",
       "    <tr>\n",
       "      <th>3</th>\n",
       "      <td>39</td>\n",
       "      <td>Adobe, Microsoft Azure, and AWS Community</td>\n",
       "      <td>0.040757</td>\n",
       "      <td># Adobe, Microsoft Azure, and AWS Community\\n\\...</td>\n",
       "      <td>8.5</td>\n",
       "    </tr>\n",
       "    <tr>\n",
       "      <th>4</th>\n",
       "      <td>52</td>\n",
       "      <td>META and Mark Zuckerberg</td>\n",
       "      <td>0.034934</td>\n",
       "      <td># META and Mark Zuckerberg\\n\\nThe community re...</td>\n",
       "      <td>8.5</td>\n",
       "    </tr>\n",
       "    <tr>\n",
       "      <th>...</th>\n",
       "      <td>...</td>\n",
       "      <td>...</td>\n",
       "      <td>...</td>\n",
       "      <td>...</td>\n",
       "      <td>...</td>\n",
       "    </tr>\n",
       "    <tr>\n",
       "      <th>101</th>\n",
       "      <td>10</td>\n",
       "      <td>Human Intelligence and New Situations</td>\n",
       "      <td>0.001456</td>\n",
       "      <td># Human Intelligence and New Situations\\n\\nThe...</td>\n",
       "      <td>7.5</td>\n",
       "    </tr>\n",
       "    <tr>\n",
       "      <th>102</th>\n",
       "      <td>103</td>\n",
       "      <td>Sam Altman and John Ivy in the AI Industry</td>\n",
       "      <td>0.005822</td>\n",
       "      <td># Sam Altman and John Ivy in the AI Industry\\n...</td>\n",
       "      <td>7.5</td>\n",
       "    </tr>\n",
       "    <tr>\n",
       "      <th>103</th>\n",
       "      <td>17</td>\n",
       "      <td>AI Task and Email Classification</td>\n",
       "      <td>0.004367</td>\n",
       "      <td># AI Task and Email Classification\\n\\nThe comm...</td>\n",
       "      <td>7.5</td>\n",
       "    </tr>\n",
       "    <tr>\n",
       "      <th>104</th>\n",
       "      <td>64</td>\n",
       "      <td>Google Colab and Cloud Platforms</td>\n",
       "      <td>0.002911</td>\n",
       "      <td># Google Colab and Cloud Platforms\\n\\nThe comm...</td>\n",
       "      <td>7.5</td>\n",
       "    </tr>\n",
       "    <tr>\n",
       "      <th>105</th>\n",
       "      <td>14</td>\n",
       "      <td>Fire and Human Evolution</td>\n",
       "      <td>0.002911</td>\n",
       "      <td># Fire and Human Evolution\\n\\nThe community re...</td>\n",
       "      <td>7.5</td>\n",
       "    </tr>\n",
       "  </tbody>\n",
       "</table>\n",
       "<p>106 rows × 5 columns</p>\n",
       "</div>"
      ],
      "text/plain": [
       "      id                                       title  occurrence weight  \\\n",
       "0    118                 AI and Technology Ecosystem           0.154294   \n",
       "1     99                      Apple and AI Ecosystem           0.144105   \n",
       "2    115                     Nikhil and AI Ecosystem           0.101892   \n",
       "3     39   Adobe, Microsoft Azure, and AWS Community           0.040757   \n",
       "4     52                    META and Mark Zuckerberg           0.034934   \n",
       "..   ...                                         ...                ...   \n",
       "101   10       Human Intelligence and New Situations           0.001456   \n",
       "102  103  Sam Altman and John Ivy in the AI Industry           0.005822   \n",
       "103   17            AI Task and Email Classification           0.004367   \n",
       "104   64            Google Colab and Cloud Platforms           0.002911   \n",
       "105   14                    Fire and Human Evolution           0.002911   \n",
       "\n",
       "                                               content  rank  \n",
       "0    # AI and Technology Ecosystem\\n\\nThe community...   8.5  \n",
       "1    # Apple and AI Ecosystem\\n\\nThe community revo...   8.5  \n",
       "2    # Nikhil and AI Ecosystem\\n\\nThe community rev...   8.5  \n",
       "3    # Adobe, Microsoft Azure, and AWS Community\\n\\...   8.5  \n",
       "4    # META and Mark Zuckerberg\\n\\nThe community re...   8.5  \n",
       "..                                                 ...   ...  \n",
       "101  # Human Intelligence and New Situations\\n\\nThe...   7.5  \n",
       "102  # Sam Altman and John Ivy in the AI Industry\\n...   7.5  \n",
       "103  # AI Task and Email Classification\\n\\nThe comm...   7.5  \n",
       "104  # Google Colab and Cloud Platforms\\n\\nThe comm...   7.5  \n",
       "105  # Fire and Human Evolution\\n\\nThe community re...   7.5  \n",
       "\n",
       "[106 rows x 5 columns]"
      ]
     },
     "execution_count": 19,
     "metadata": {},
     "output_type": "execute_result"
    }
   ],
   "source": [
    "# inspect the data used to build the context for the LLM responses\n",
    "result.context_data[\"reports\"]"
   ]
  },
  {
   "cell_type": "code",
   "execution_count": 20,
   "metadata": {},
   "outputs": [
    {
     "name": "stdout",
     "output_type": "stream",
     "text": [
      "LLM calls: 6. LLM tokens: 56271\n"
     ]
    }
   ],
   "source": [
    "# inspect number of LLM calls and tokens\n",
    "print(f\"LLM calls: {result.llm_calls}. LLM tokens: {result.prompt_tokens}\")"
   ]
  },
  {
   "cell_type": "code",
   "execution_count": null,
   "metadata": {},
   "outputs": [],
   "source": []
  },
  {
   "cell_type": "markdown",
   "metadata": {},
   "source": [
    "# Graph viz\n"
   ]
  },
  {
   "cell_type": "markdown",
   "metadata": {},
   "source": [
    "## yfiles_jupyter_graphs"
   ]
  },
  {
   "cell_type": "code",
   "execution_count": 5,
   "metadata": {},
   "outputs": [],
   "source": [
    "%%capture\n",
    "!pip install yfiles_jupyter_graphs"
   ]
  },
  {
   "cell_type": "code",
   "execution_count": 8,
   "metadata": {},
   "outputs": [
    {
     "data": {
      "application/vnd.jupyter.widget-view+json": {
       "model_id": "4e2caa752e044971a3dfed78b7b780ca",
       "version_major": 2,
       "version_minor": 0
      },
      "text/plain": [
       "GraphWidget(layout=Layout(height='800px', width='100%'))"
      ]
     },
     "metadata": {},
     "output_type": "display_data"
    }
   ],
   "source": [
    "\"\"\"\n",
    "Uses yfiles-jupyter-graphs to visualize the dataframes.\n",
    "\n",
    "The dataframes are converted into supported nodes and relationships lists and then passed to yfiles-jupyter-graphs.\n",
    "Additionally, some values are mapped to visualization properties.\n",
    "\"\"\"\n",
    "def show_graph(entity_df, relationship_df):\n",
    "    from yfiles_jupyter_graphs import GraphWidget\n",
    "\n",
    "    # converts the entities dataframe to a list of dicts for yfiles-jupyter-graphs\n",
    "    def convert_entities_to_dicts(df):\n",
    "        nodes_dict = {}\n",
    "        for index, row in df.iterrows():\n",
    "            # Create a dictionary for each row and collect unique nodes\n",
    "            node_id = row[\"title\"]\n",
    "            if not node_id in nodes_dict:\n",
    "                nodes_dict[node_id] = {\"id\": node_id, \"properties\": {col: value for col, value in zip(row.index, row.values)}}\n",
    "        return list(nodes_dict.values())\n",
    "\n",
    "    # converts the relationships dataframe to a list of dicts for yfiles-jupyter-graphs\n",
    "    def convert_relationships_to_dicts(df):\n",
    "        relationships = []\n",
    "        for index, row in df.iterrows():\n",
    "            # Create a dictionary for each row\n",
    "            relationships.append({\"start\": row['source'], \"end\": row['target'], \"properties\": {col: value for col, value in zip(row.index, row.values)}})\n",
    "        return relationships\n",
    "\n",
    "\n",
    "    w = GraphWidget()\n",
    "    # use the converted data to visualize the graph\n",
    "    w.nodes = convert_entities_to_dicts(entity_df)\n",
    "    w.edges = convert_relationships_to_dicts(relationship_df)\n",
    "    w.directed = True\n",
    "    # show title on the node\n",
    "    w.node_label_mapping = \"title\"\n",
    "    # map community to a color\n",
    "    def community_to_color(community):\n",
    "        colors = [\"crimson\", \"darkorange\", \"indigo\", \"cornflowerblue\", \"cyan\", \"teal\", \"green\"]\n",
    "        return colors[int(community) % len(colors)] if community is not None else \"lightgray\"\n",
    "    def edge_to_source_community(edge):\n",
    "        source_node = next((entry for entry in w.nodes if entry[\"properties\"][\"title\"] == edge[\"start\"]), None)\n",
    "        source_node_community = source_node[\"properties\"][\"community\"]\n",
    "        return source_node_community if source_node_community is not None else None\n",
    "    w.node_color_mapping = lambda node : community_to_color(node[\"properties\"][\"community\"])\n",
    "    w.edge_color_mapping = lambda edge : community_to_color(edge_to_source_community(edge))\n",
    "    # map size data to a reasonable factor\n",
    "    w.node_scale_factor_mapping = lambda node : 0.5 + node[\"properties\"][\"size\"] * 1.5 / 20\n",
    "    # use weight for edge thickness\n",
    "    w.edge_thickness_factor_mapping = \"weight\"\n",
    "    # Use the circular layout for this visualization. For larger graphs, the default organic layout is often preferable.\n",
    "    w.circular_layout()\n",
    "    display(w)\n",
    "\n",
    "# pass the dataframes from the parquet files\n",
    "entity_df = pd.read_parquet(\"/workspaces/graphrag/nm-projects/asai/output/20240716-171659/artifacts/create_final_nodes.parquet\")\n",
    "relationship_df = pd.read_parquet(\"/workspaces/graphrag/nm-projects/asai/output/20240716-171659/artifacts/create_final_relationships.parquet\")\n",
    "\n",
    "show_graph(entity_df, relationship_df)"
   ]
  },
  {
   "cell_type": "code",
   "execution_count": null,
   "metadata": {},
   "outputs": [],
   "source": [
    "!jupyter nbextension enable --py widgetsnbextension"
   ]
  },
  {
   "cell_type": "code",
   "execution_count": 6,
   "metadata": {},
   "outputs": [
    {
     "data": {
      "application/vnd.jupyter.widget-view+json": {
       "model_id": "e530d21db7cf4cdeaa0334652229d107",
       "version_major": 2,
       "version_minor": 0
      },
      "text/plain": [
       "GraphWidget(layout=Layout(height='500px', width='100%'))"
      ]
     },
     "metadata": {},
     "output_type": "display_data"
    }
   ],
   "source": [
    "from yfiles_jupyter_graphs import GraphWidget\n",
    "w = GraphWidget()\n",
    "w.show()"
   ]
  },
  {
   "cell_type": "markdown",
   "metadata": {},
   "source": []
  },
  {
   "cell_type": "markdown",
   "metadata": {},
   "source": [
    "## pyvis"
   ]
  },
  {
   "cell_type": "code",
   "execution_count": null,
   "metadata": {},
   "outputs": [],
   "source": [
    "!pip install pandas networkx pyvis"
   ]
  },
  {
   "cell_type": "code",
   "execution_count": 2,
   "metadata": {},
   "outputs": [
    {
     "name": "stdout",
     "output_type": "stream",
     "text": [
      "Warning: When  cdn_resources is 'local' jupyter notebook has issues displaying graphics on chrome/safari. Use cdn_resources='in_line' or cdn_resources='remote' if you have issues viewing graphics in a notebook.\n",
      "graph.html\n"
     ]
    },
    {
     "data": {
      "text/html": [
       "\n",
       "        <iframe\n",
       "            width=\"100%\"\n",
       "            height=\"600px\"\n",
       "            src=\"graph.html\"\n",
       "            frameborder=\"0\"\n",
       "            allowfullscreen\n",
       "            \n",
       "        ></iframe>\n",
       "        "
      ],
      "text/plain": [
       "<IPython.lib.display.IFrame at 0x7c4bd2679120>"
      ]
     },
     "execution_count": 2,
     "metadata": {},
     "output_type": "execute_result"
    }
   ],
   "source": [
    "import pandas as pd\n",
    "import networkx as nx\n",
    "from pyvis.network import Network\n",
    "\n",
    "df = pd.read_parquet('/workspaces/graphrag/nm-projects/asai/output/20240716-171659/artifacts/create_base_entity_graph.parquet')\n",
    "graphml_data = df.iloc[0]['clustered_graph']\n",
    "graph = nx.parse_graphml(graphml_data.encode('utf-8'))\n",
    "\n",
    "net = Network(notebook=True)\n",
    "net.from_nx(graph)\n",
    "net.show('graph.html')"
   ]
  },
  {
   "cell_type": "code",
   "execution_count": null,
   "metadata": {},
   "outputs": [],
   "source": []
  }
 ],
 "metadata": {
  "kernelspec": {
   "display_name": "Python 3",
   "language": "python",
   "name": "python3"
  },
  "language_info": {
   "codemirror_mode": {
    "name": "ipython",
    "version": 3
   },
   "file_extension": ".py",
   "mimetype": "text/x-python",
   "name": "python",
   "nbconvert_exporter": "python",
   "pygments_lexer": "ipython3",
   "version": "3.10.13"
  }
 },
 "nbformat": 4,
 "nbformat_minor": 2
}
